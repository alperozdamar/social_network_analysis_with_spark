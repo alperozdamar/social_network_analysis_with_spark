{
 "cells": [
  {
   "cell_type": "code",
   "execution_count": 10,
   "metadata": {},
   "outputs": [
    {
     "name": "stdout",
     "output_type": "stream",
     "text": [
      "root\n",
      " |-- author: string (nullable = true)\n",
      " |-- author_flair_css_class: string (nullable = true)\n",
      " |-- author_flair_text: string (nullable = true)\n",
      " |-- body: string (nullable = true)\n",
      " |-- controversiality: long (nullable = true)\n",
      " |-- created_utc: long (nullable = true)\n",
      " |-- distinguished: string (nullable = true)\n",
      " |-- edited: string (nullable = true)\n",
      " |-- gilded: long (nullable = true)\n",
      " |-- id: string (nullable = true)\n",
      " |-- link_id: string (nullable = true)\n",
      " |-- parent_id: string (nullable = true)\n",
      " |-- retrieved_on: long (nullable = true)\n",
      " |-- score: long (nullable = true)\n",
      " |-- stickied: boolean (nullable = true)\n",
      " |-- subreddit: string (nullable = true)\n",
      " |-- subreddit_id: string (nullable = true)\n",
      " |-- ups: long (nullable = true)\n",
      "\n",
      "root\n",
      " |-- author: string (nullable = true)\n",
      " |-- body: string (nullable = true)\n",
      "\n",
      "+----------------+--------------------+\n",
      "|          author|                body|\n",
      "+----------------+--------------------+\n",
      "|     nickburlett|The Christian rep...|\n",
      "|        lowspeed|Just look at alin...|\n",
      "|           spuur|Well, I guess tha...|\n",
      "|          egillm|I thought my subm...|\n",
      "|        grzelakc|Polish parliament...|\n",
      "|         simpson|I am sure tons of...|\n",
      "|      infinityis|[Movie spoofs abo...|\n",
      "|         simpson|The history of th...|\n",
      "|         simpson|A useful tool for...|\n",
      "|          _kam0_|Difference is ant...|\n",
      "|      grauenwolf|I see you still l...|\n",
      "|       [deleted]|           [deleted]|\n",
      "|TheBadAstronomer|Giant electrical ...|\n",
      "|       [deleted]|           [deleted]|\n",
      "|       [deleted]|It's funny /and/ ...|\n",
      "|       [deleted]|           [deleted]|\n",
      "|           raldi|SI? Sports Illust...|\n",
      "|       [deleted]|           [deleted]|\n",
      "|      Mao_Zedong|they should have ...|\n",
      "|         thisrod|I don't think any...|\n",
      "+----------------+--------------------+\n",
      "only showing top 20 rows\n",
      "\n"
     ]
    }
   ],
   "source": [
    "from pyspark.sql.types import TimestampType\n",
    "from pyspark.sql.functions import year, month, dayofmonth\n",
    "\n",
    "originDF = sqlContext.read.json(\"hdfs://orion11:11001/reddit/2006/*\")\n",
    "# Displays the content of the DataFrame to stdout\n",
    "df = originDF.select(originDF.author, originDF.body)\n",
    "originDF.printSchema()\n",
    "df.printSchema()\n",
    "df.show()\n",
    "# df = df.withColumn(\"created_utc\", df[\"created_utc\"].cast(\"timestamp\"))\n",
    "# df = df.select(\n",
    "#     dayofmonth(df.created_utc).alias('day'), \n",
    "#     month(df.created_utc).alias('month'), \n",
    "#     df.author\n",
    "# )\n",
    "# # Filter using day month\n",
    "# filteredDF = df.filter((df.month == 3) & (df.day==11))\n",
    "# sampleDF = filteredDF.sample(True, 0.05)\n",
    "# print(\"Total comments: \" + str(df.count()))\n",
    "# print(\"Filtered comments in 11 March: \" + str(filteredDF.count()))\n",
    "# print(\"5% sample:\" + str(sampleDF.count()))\n",
    "# sampleDF.show()"
   ]
  },
  {
   "cell_type": "code",
   "execution_count": null,
   "metadata": {},
   "outputs": [],
   "source": []
  }
 ],
 "metadata": {
  "kernelspec": {
   "display_name": "Python 3",
   "language": "python",
   "name": "python3"
  },
  "language_info": {
   "codemirror_mode": {
    "name": "ipython",
    "version": 3
   },
   "file_extension": ".py",
   "mimetype": "text/x-python",
   "name": "python",
   "nbconvert_exporter": "python",
   "pygments_lexer": "ipython3",
   "version": "3.7.3"
  }
 },
 "nbformat": 4,
 "nbformat_minor": 2
}
