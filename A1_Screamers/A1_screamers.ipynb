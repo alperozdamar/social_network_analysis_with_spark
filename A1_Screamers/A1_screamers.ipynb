{
 "cells": [
  {
   "cell_type": "markdown",
   "metadata": {},
   "source": [
    "# Screammers - Question A1:\n",
    "\n",
    "It is well known that WRITING IN ALL CAPS ONLINE IS A SUBSTITUTE FOR SCREAMING… OR YELLING. *cough!*. (Or some might say it’s simply cruise control for cooooool). Write a job to find users that scream a lot, and provide a screamer score (a highly-technical metric that you will invent)."
   ]
  },
  {
   "cell_type": "markdown",
   "metadata": {},
   "source": [
    "Import data from sampled_reddit dataset (10% of whole dataset)"
   ]
  },
  {
   "cell_type": "code",
   "execution_count": 13,
   "metadata": {},
   "outputs": [
    {
     "name": "stdout",
     "output_type": "stream",
     "text": [
      "root\n",
      " |-- archived: boolean (nullable = true)\n",
      " |-- author: string (nullable = true)\n",
      " |-- author_cakeday: boolean (nullable = true)\n",
      " |-- author_flair_css_class: string (nullable = true)\n",
      " |-- author_flair_text: string (nullable = true)\n",
      " |-- body: string (nullable = true)\n",
      " |-- body_html: string (nullable = true)\n",
      " |-- controversiality: long (nullable = true)\n",
      " |-- created: long (nullable = true)\n",
      " |-- created_utc: string (nullable = true)\n",
      " |-- distinguished: string (nullable = true)\n",
      " |-- downs: long (nullable = true)\n",
      " |-- edited: string (nullable = true)\n",
      " |-- gilded: long (nullable = true)\n",
      " |-- id: string (nullable = true)\n",
      " |-- link_id: string (nullable = true)\n",
      " |-- mod_reports: array (nullable = true)\n",
      " |    |-- element: string (containsNull = true)\n",
      " |-- name: string (nullable = true)\n",
      " |-- parent_id: string (nullable = true)\n",
      " |-- removal_reason: string (nullable = true)\n",
      " |-- replies: string (nullable = true)\n",
      " |-- retrieved_on: long (nullable = true)\n",
      " |-- saved: boolean (nullable = true)\n",
      " |-- score: long (nullable = true)\n",
      " |-- score_hidden: boolean (nullable = true)\n",
      " |-- stickied: boolean (nullable = true)\n",
      " |-- subreddit: string (nullable = true)\n",
      " |-- subreddit_id: string (nullable = true)\n",
      " |-- ups: long (nullable = true)\n",
      " |-- user_reports: array (nullable = true)\n",
      " |    |-- element: string (containsNull = true)\n",
      "\n",
      "309199315\n"
     ]
    }
   ],
   "source": [
    "from pyspark.sql.types import TimestampType\n",
    "from pyspark.sql.functions import year, month, dayofmonth, desc, length\n",
    "import pyspark.sql.functions as func\n",
    "\n",
    "df = sqlContext.read.json(\"hdfs://orion11:11001/sampled_reddit/*\")\n",
    "df.createOrReplaceTempView(\"Comments\")\n",
    "# Displays the content of the DataFrame to stdout\n",
    "# df = originDF.select(originDF.author, originDF.body, length(originDF.body).alias(\"length\"))\n",
    "\n",
    "# originDF.printSchema()\n",
    "df.printSchema()\n",
    "print(df.count())\n",
    "# df.groupBy(df.author).show()"
   ]
  },
  {
   "cell_type": "markdown",
   "metadata": {},
   "source": [
    "Filter the comments, only select comments which contain only uppercase or special character and not wrote by bot/auto moderator"
   ]
  },
  {
   "cell_type": "code",
   "execution_count": 14,
   "metadata": {},
   "outputs": [
    {
     "data": {
      "text/plain": [
       "4452213"
      ]
     },
     "execution_count": 14,
     "metadata": {},
     "output_type": "execute_result"
    }
   ],
   "source": [
    "lowerCaseExpr = \"([a-z])+\"\n",
    "botExpr = \"[bB][oO][tT]\"\n",
    "filteredDF = (df\n",
    " .filter(~(df.body.rlike(lowerCaseExpr)) & ~(df.author.like(\"[deleted]\") \n",
    "                                 | df.author.like(\"AutoModerator\") \n",
    "                                 | df.author.rlike(botExpr)))\n",
    " .select(df.subreddit, df.author, df.body)\n",
    "\n",
    " )\n",
    "filteredDF.count()"
   ]
  },
  {
   "cell_type": "markdown",
   "metadata": {},
   "source": [
    "After fiterd the comments, group by author and count number of comments by author and total length of all the comments. So we can sort using total number of comments or sort by total comments length"
   ]
  },
  {
   "cell_type": "code",
   "execution_count": 15,
   "metadata": {},
   "outputs": [
    {
     "name": "stdout",
     "output_type": "stream",
     "text": [
      "+--------------------+-------------+--------------+\n",
      "|              author|Num Of scream|Screamer score|\n",
      "+--------------------+-------------+--------------+\n",
      "|   EngineeringIsHard|           11|           311|\n",
      "|          bobmystery|            8|           146|\n",
      "|        trenchdigger|            1|            11|\n",
      "| TasteTheRainbowHead|            3|            24|\n",
      "| YesSomebodyElseDoes|           36|           108|\n",
      "|         douglasr007|           19|           163|\n",
      "|       SpikeKintarin|           16|           299|\n",
      "|         galenspring|            3|            58|\n",
      "|          VeiledAiel|            2|            19|\n",
      "|        iHyperboloid|            2|            23|\n",
      "|          Rab_Legend|           38|          1120|\n",
      "|         CKlandSHARK|          125|          6455|\n",
      "|        crimsonjella|           15|           368|\n",
      "|         Spongyrocks|           56|          3009|\n",
      "|4ever_alonelyfangirl|            5|            38|\n",
      "|         tidder_bear|            2|           155|\n",
      "|     drunkhoboboy117|            3|            38|\n",
      "|            teddyp28|            2|            18|\n",
      "|  Everythingpossible|           76|          2771|\n",
      "|            Amarowar|           12|           296|\n",
      "+--------------------+-------------+--------------+\n",
      "only showing top 20 rows\n",
      "\n"
     ]
    }
   ],
   "source": [
    "authorComments = (filteredDF\n",
    " .groupBy(filteredDF.author)\n",
    " .agg(\n",
    "     func.count(func.lit(1)).alias(\"Num Of scream\"),\n",
    "     func.sum(length(filteredDF.body)).alias(\"Screamer score\")\n",
    "     ))\n",
    "authorComments.show()"
   ]
  },
  {
   "cell_type": "code",
   "execution_count": 17,
   "metadata": {},
   "outputs": [
    {
     "name": "stdout",
     "output_type": "stream",
     "text": [
      "+--------------------+-------------+--------------+\n",
      "|              author|Num Of scream|Screamer score|\n",
      "+--------------------+-------------+--------------+\n",
      "|          davidjl123|        16304|        145377|\n",
      "|      atomicimploder|        15803|        127709|\n",
      "|       TheNitromeFan|        11021|        121261|\n",
      "|         Smartstocks|         9646|         80593|\n",
      "|        Removedpixel|         8228|         70911|\n",
      "|            Mooraell|         6838|         54638|\n",
      "|RandomRedditorWithNo|         6342|         68055|\n",
      "|        KingCaspianX|         5984|         64275|\n",
      "|   SolidGoldMagikarp|         5911|         53155|\n",
      "|            rideride|         5003|         38078|\n",
      "|           cupofmilo|         4962|         39862|\n",
      "|          xHOCKEYx12|         4642|         34065|\n",
      "|             mfstyrf|         4407|        101392|\n",
      "|              mokeru|         3986|        104452|\n",
      "|           rschaosid|         3959|         28932|\n",
      "|        FartyMcNarty|         3910|         35676|\n",
      "|           QuestoGuy|         3590|         40794|\n",
      "|             Adinida|         3511|         33958|\n",
      "|              TOP_20|         3202|         48652|\n",
      "|        Franciscouzo|         3114|         28330|\n",
      "+--------------------+-------------+--------------+\n",
      "only showing top 20 rows\n",
      "\n"
     ]
    }
   ],
   "source": [
    "(authorComments\n",
    " .sort(desc(\"Num Of scream\"))\n",
    " .show())"
   ]
  },
  {
   "cell_type": "code",
   "execution_count": 18,
   "metadata": {},
   "outputs": [
    {
     "name": "stdout",
     "output_type": "stream",
     "text": [
      "+--------------------+-------------+--------------+\n",
      "|              author|Num Of scream|Screamer score|\n",
      "+--------------------+-------------+--------------+\n",
      "|              ambral|          772|       2163636|\n",
      "|        supergameman|          133|       1030986|\n",
      "|               veeti|         2680|        908443|\n",
      "|      roadrageroland|           77|        743513|\n",
      "|     INFINITYISWEIRD|           60|        434716|\n",
      "|          bhrgunatha|          259|        411979|\n",
      "|Midnight_Rider_Daddy|           39|        349733|\n",
      "|       Therianthrope|          204|        331477|\n",
      "|      -TheTruthHurts|           57|        293383|\n",
      "|         bleeaublaha|           29|        290000|\n",
      "|       expiredcheese|           77|        265599|\n",
      "|         TrenchFouch|          950|        259325|\n",
      "|            Dragovic|           45|        231027|\n",
      "|          __thiscall|           21|        210000|\n",
      "|         DinoYouTube|           22|        187009|\n",
      "|              Aragil|          875|        179978|\n",
      "|          ArcherM0N0|           21|        176064|\n",
      "|    TheCleanupBatter|           21|        150881|\n",
      "|          davidjl123|        16304|        145377|\n",
      "|   Paki_Meister_4000|           14|        139986|\n",
      "+--------------------+-------------+--------------+\n",
      "only showing top 20 rows\n",
      "\n"
     ]
    }
   ],
   "source": [
    "(authorComments\n",
    " .sort(desc(\"Screamer score\"))\n",
    " .show())"
   ]
  },
  {
   "cell_type": "markdown",
   "metadata": {},
   "source": [
    "### For future reference (when we really want to get something off our chest), what are the top 5 subreddits for scream-y comments?\n",
    "Instead of group by author, in this problem we will group all the comments by subreddit"
   ]
  },
  {
   "cell_type": "code",
   "execution_count": 19,
   "metadata": {},
   "outputs": [
    {
     "name": "stdout",
     "output_type": "stream",
     "text": [
      "+--------------+-------------+\n",
      "|     subreddit|Num Of scream|\n",
      "+--------------+-------------+\n",
      "|         anime|        10862|\n",
      "|    MensRights|          791|\n",
      "|  SaltLakeCity|          137|\n",
      "|      lacrosse|           63|\n",
      "|        HoJang|            2|\n",
      "|        travel|          262|\n",
      "|    QuotesPorn|          154|\n",
      "|       Amateur|          201|\n",
      "|    WahoosTipi|         2242|\n",
      "|        Daleks|           27|\n",
      "|          udel|            5|\n",
      "|       ukraina|        47611|\n",
      "|   battlefront|           36|\n",
      "|           SCW|           12|\n",
      "|   Jobopenings|            3|\n",
      "|FreeHugsGaming|            2|\n",
      "|   creepypasta|           54|\n",
      "|  marvelheroes|          180|\n",
      "|  electroswing|            4|\n",
      "|        zipzip|            2|\n",
      "+--------------+-------------+\n",
      "only showing top 20 rows\n",
      "\n"
     ]
    }
   ],
   "source": [
    "subredditComments = (filteredDF\n",
    " .groupBy(filteredDF.subreddit)\n",
    " .agg(\n",
    "     func.count(func.lit(1)).alias(\"Num Of scream\")\n",
    "     ))\n",
    "subredditComments.show()"
   ]
  },
  {
   "cell_type": "markdown",
   "metadata": {},
   "source": [
    "Then we will sort the subreddit by number of scream comments"
   ]
  },
  {
   "cell_type": "code",
   "execution_count": 20,
   "metadata": {},
   "outputs": [
    {
     "name": "stdout",
     "output_type": "stream",
     "text": [
      "+---------+-------------+\n",
      "|subreddit|Num Of scream|\n",
      "+---------+-------------+\n",
      "|AskReddit|       290342|\n",
      "| counting|       231749|\n",
      "| newsokur|       144728|\n",
      "|      nfl|       106300|\n",
      "|    funny|       103038|\n",
      "+---------+-------------+\n",
      "only showing top 5 rows\n",
      "\n"
     ]
    }
   ],
   "source": [
    "(subredditComments\n",
    " .sort(desc(\"Num of scream\"))\n",
    " .show(5))"
   ]
  }
 ],
 "metadata": {
  "kernelspec": {
   "display_name": "Python 3",
   "language": "python",
   "name": "python3"
  },
  "language_info": {
   "codemirror_mode": {
    "name": "ipython",
    "version": 3
   },
   "file_extension": ".py",
   "mimetype": "text/x-python",
   "name": "python",
   "nbconvert_exporter": "python",
   "pygments_lexer": "ipython3",
   "version": "3.7.3"
  }
 },
 "nbformat": 4,
 "nbformat_minor": 2
}
