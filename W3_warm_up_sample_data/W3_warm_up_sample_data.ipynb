{
 "cells": [
  {
   "cell_type": "markdown",
   "metadata": {},
   "source": [
    "# Warm-up Question 3: \n",
    "\n",
    "Choose a day of significance to you (e.g., your birthday), and retrieve a 5% sample of the comments posted on this particular day across all 5 years of the dataset."
   ]
  },
  {
   "cell_type": "markdown",
   "metadata": {},
   "source": [
    "### Clean Data"
   ]
  },
  {
   "cell_type": "code",
   "execution_count": 25,
   "metadata": {},
   "outputs": [],
   "source": [
    "from pyspark.sql.types import TimestampType, DateType\n",
    "from pyspark.sql.functions import year, month, dayofmonth, from_unixtime\n",
    "\n",
    "botExpr = \"[bB][oO][tT]\""
   ]
  },
  {
   "cell_type": "code",
   "execution_count": 26,
   "metadata": {},
   "outputs": [
    {
     "name": "stdout",
     "output_type": "stream",
     "text": [
      "+--------------------+-----------+---+-----+\n",
      "|                body|created_utc|day|month|\n",
      "+--------------------+-----------+---+-----+\n",
      "|There's no way th...| 1246406405| 30|    6|\n",
      "|Lord of the Rings...| 1246406405| 30|    6|\n",
      "|The fuck it song ...| 1246406409| 30|    6|\n",
      "|Ha! Same as hocke...| 1246406413| 30|    6|\n",
      "|*You* are clever ...| 1246406413| 30|    6|\n",
      "|Does it *have* to...| 1246406413| 30|    6|\n",
      "|I've been lurking...| 1246406414| 30|    6|\n",
      "|This one time, my...| 1246406418| 30|    6|\n",
      "|The Chrono Cross ...| 1246406426| 30|    6|\n",
      "|Well, it's pretty...| 1246406430| 30|    6|\n",
      "|  Keep going strong?| 1246406430| 30|    6|\n",
      "|to me there are 2...| 1246406430| 30|    6|\n",
      "|   what... the fuck?| 1246406430| 30|    6|\n",
      "|And then let them...| 1246406430| 30|    6|\n",
      "|Why does it have ...| 1246406431| 30|    6|\n",
      "|The floating ads ...| 1246406433| 30|    6|\n",
      "|Is it something 6...| 1246406436| 30|    6|\n",
      "|Ah... you're righ...| 1246406437| 30|    6|\n",
      "|But she couldn't ...| 1246406442| 30|    6|\n",
      "|Yeah but this one...| 1246406449| 30|    6|\n",
      "+--------------------+-----------+---+-----+\n",
      "only showing top 20 rows\n",
      "\n",
      "Total comments that not from bot: 2886719440\n"
     ]
    }
   ],
   "source": [
    "df = sqlContext.read.json(\"hdfs://orion11:11001/reddit/*/*\")\n",
    "df = (df\n",
    "      .filter(~(df.body.like(\"[deleted]\") | df.author.rlike(botExpr)))\n",
    "      .withColumn(\"day\", dayofmonth(from_unixtime(\"created_utc\").cast(DateType())))\n",
    "      .withColumn(\"month\",month(from_unixtime(\"created_utc\").cast(DateType()))))\n",
    "df.select(\"body\",\"created_utc\", \"day\", \"month\").show()\n",
    "print(\"Total comments that not from bot: \" + str(df.count()))"
   ]
  },
  {
   "cell_type": "markdown",
   "metadata": {},
   "source": [
    "Then the dataframe will be filter using my birthday (March 11)  \n",
    "Filtered data will be sampled to get 5% in there"
   ]
  },
  {
   "cell_type": "markdown",
   "metadata": {},
   "source": [
    "## Filter Data"
   ]
  },
  {
   "cell_type": "code",
   "execution_count": 27,
   "metadata": {},
   "outputs": [
    {
     "name": "stdout",
     "output_type": "stream",
     "text": [
      "Filtered comments in March 11: 8801083\n"
     ]
    }
   ],
   "source": [
    "\n",
    "# Filter using day month\n",
    "filteredDF = df.filter((df.month == 3) & (df.day==11))\n",
    "print(\"Filtered comments in March 11: \" + str(filteredDF.count()))"
   ]
  },
  {
   "cell_type": "markdown",
   "metadata": {},
   "source": [
    "Print out the number of comments in dataset, number of comments in March 11, and 5% sample"
   ]
  },
  {
   "cell_type": "code",
   "execution_count": 28,
   "metadata": {},
   "outputs": [
    {
     "name": "stdout",
     "output_type": "stream",
     "text": [
      "5% sample:441239\n",
      "+-------------------+---------------+--------------------+\n",
      "|          subreddit|         author|                body|\n",
      "+-------------------+---------------+--------------------+\n",
      "|           gonewild|      [deleted]|It's what's under...|\n",
      "|               pics|        Mookhaz|As long as you ar...|\n",
      "|        programming|       jkourula|I can see the ben...|\n",
      "|           politics|         rmuser|Right = don't int...|\n",
      "|               pics|         indite|DEEDLEOODEEDLEOOO...|\n",
      "|          AskReddit|      sanitybit|http://en.wiktion...|\n",
      "|              Autos|       qiqi1021|This. Also the sa...|\n",
      "|          AskReddit|         namcor|At a bar. Drunk g...|\n",
      "|               pics|         OhZone|I saw some of his...|\n",
      "|relationship_advice|  thatsapaddlin|Honesty is key.  ...|\n",
      "|               food|    hailtheface|  Compound butters. |\n",
      "|             movies|      [deleted]|Rachel Leigh Cook...|\n",
      "|             movies|      [deleted]|Rachel Leigh Cook...|\n",
      "|          AskReddit|SamFuckingNeill|guys, he was talk...|\n",
      "|            science|      [deleted]|IT shouldn't be c...|\n",
      "|              apple|       cyantist|It's old.  The Ja...|\n",
      "|               pics|       SoCo_cpp|        Damn hippies|\n",
      "|          AskReddit|     sandrc2002|The best one was ...|\n",
      "|          AskReddit|     cymbalrush|And this is why I...|\n",
      "|    DoesAnybodyElse|     cute_troll|I generally take ...|\n",
      "+-------------------+---------------+--------------------+\n",
      "only showing top 20 rows\n",
      "\n"
     ]
    }
   ],
   "source": [
    "sampleDF = filteredDF.sample(True, 0.05)\n",
    "print(\"5% sample:\" + str(sampleDF.count()))\n",
    "sampleDF.select(\"subreddit\",\"author\",\"body\").show()"
   ]
  }
 ],
 "metadata": {
  "kernelspec": {
   "display_name": "Python 3",
   "language": "python",
   "name": "python3"
  },
  "language_info": {
   "codemirror_mode": {
    "name": "ipython",
    "version": 3
   },
   "file_extension": ".py",
   "mimetype": "text/x-python",
   "name": "python",
   "nbconvert_exporter": "python",
   "pygments_lexer": "ipython3",
   "version": "3.7.3"
  }
 },
 "nbformat": 4,
 "nbformat_minor": 2
}
