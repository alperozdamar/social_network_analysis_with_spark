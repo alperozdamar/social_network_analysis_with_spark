{
 "cells": [
  {
   "cell_type": "markdown",
   "metadata": {},
   "source": [
    "# WarmUp Question-4\n",
    "The number of comments posted per year will likely trend upward over time as more users join Reddit. However, the popularity of some subreddits may increase or decrease over time. Find An example of both.\n",
    "\n",
    "As you can see in the \"Reddit Comments Per Year\" chart, the number of comments posted in reddit incresing every year drastically. (Note:2017 numbers are less than expected because we don't have the whole data for 2017.)  \n",
    "\n",
    "In the second part, we decided to analyze Relationship and Iphone topic as a subreddit. Relationships are very hot topic for every age and every era, so not surprisingly, relationship subreddit comments increased over time. In 2015, the number of relationship subreddit comments increased enormously from 1.79 million to 3.37 million.\n",
    "\n",
    "Our second subreddit Iphone increase each year till 2013. In 2013, it is dropped from 208000 to 196500 then jump to 297200 again in 2014. Interestingly, iphone comments drop again in 2015 to 263100 then in 2016 it increased to 366800. \n",
    "\n",
    "Note: For iphone subreddit we took %1 sampled data. For relationship we took %10 sampled data. In 2017, we don't have complete data for all months. \n",
    "\n",
    "You can check the Implementation Part for our implementation details. "
   ]
  },
  {
   "cell_type": "markdown",
   "metadata": {},
   "source": [
    "# Reddit Comments Per Year\n",
    "\n",
    "\n",
    "![alt text](https://i.imgur.com/HQvbaQg.jpg \"Logo Title Text 1\")\n"
   ]
  },
  {
   "cell_type": "markdown",
   "metadata": {},
   "source": [
    "# Relationships Comments Per Year\n",
    "\n",
    "\n",
    "\n",
    "![alt text](https://i.imgur.com/NeeY0zr.jpg \"Logo Title Text 1\")\n",
    "\n"
   ]
  },
  {
   "cell_type": "markdown",
   "metadata": {},
   "source": [
    "\n",
    "![alt text](https://i.imgur.com/mWW1CRq.jpg \"Logo Title Text 1\")\n"
   ]
  },
  {
   "cell_type": "markdown",
   "metadata": {},
   "source": [
    "# Implementation Part\n",
    "\n",
    "Note: sampled_reddit_v2 is %1 of original data"
   ]
  },
  {
   "cell_type": "code",
   "execution_count": 5,
   "metadata": {},
   "outputs": [
    {
     "name": "stdout",
     "output_type": "stream",
     "text": [
      "CPU times: user 4.14 ms, sys: 591 µs, total: 4.73 ms\n",
      "Wall time: 22.5 s\n"
     ]
    }
   ],
   "source": [
    "%%time\n",
    "spark.catalog.dropGlobalTempView(\"Comments\")\n",
    "df = sqlContext.read.json(\"hdfs://orion11:11001/sampled_reddit_v2/*\")\n",
    "#df = sqlContext.read.json(\"hdfs://orion11:11001/sampled_reddit/*\")\n",
    "df.createGlobalTempView(\"Comments\")\n"
   ]
  },
  {
   "cell_type": "markdown",
   "metadata": {},
   "source": [
    "# Calculate %10 of 2006 Comments\n",
    "\n"
   ]
  },
  {
   "cell_type": "code",
   "execution_count": 39,
   "metadata": {},
   "outputs": [
    {
     "name": "stdout",
     "output_type": "stream",
     "text": [
      "startTime: 1136102400.0\n",
      "endTime: 1167638399.0\n",
      "SELECT count(*) as Comments from global_temp.Comments where (created_utc>=1136102400.0 and created_utc<=1167638399.0 )\n",
      "+--------+\n",
      "|Comments|\n",
      "+--------+\n",
      "|     471|\n",
      "+--------+\n",
      "\n",
      "SELECT count(*) as iphone from global_temp.Comments where subreddit='iphone' and (created_utc>=1136102400.0 and created_utc<=1167638399.0 )\n",
      "+------+\n",
      "|iphone|\n",
      "+------+\n",
      "|     0|\n",
      "+------+\n",
      "\n"
     ]
    }
   ],
   "source": [
    ">>> import time\n",
    ">>> import datetime\n",
    ">>> dt = datetime.datetime.strptime('2006-01-01 00:00:00', '%Y-%m-%d %H:%M:%S')\n",
    "startTime=time.mktime(dt.timetuple())\n",
    "print(\"startTime:\",startTime)\n",
    ">>> dt = datetime.datetime.strptime('2006-12-31 23:59:59', '%Y-%m-%d %H:%M:%S')\n",
    "endTime=time.mktime(dt.timetuple())\n",
    "print(\"endTime:\",endTime)\n",
    "sqlString=\"SELECT count(*) as Comments from global_temp.Comments where (created_utc>=%s and created_utc<=%s )\";\n",
    "sqlString= sqlString % (startTime, endTime)\n",
    "print(sqlString)\n",
    "sqlDF=spark.sql(sqlString)\n",
    "\n",
    "commentCount = sqlDF.show(df.count());\n",
    "\n",
    "sqlString=\"SELECT count(*) as iphone from global_temp.Comments where subreddit='iphone' and (created_utc>=%s and created_utc<=%s )\";\n",
    "sqlString= sqlString % (startTime, endTime)\n",
    "print(sqlString)\n",
    "sqlDF=spark.sql(sqlString)\n",
    "\n",
    "commentCount = sqlDF.show(df.count());\n"
   ]
  },
  {
   "cell_type": "markdown",
   "metadata": {},
   "source": [
    "# Calculate %10 of 2007 Comments"
   ]
  },
  {
   "cell_type": "code",
   "execution_count": 38,
   "metadata": {},
   "outputs": [
    {
     "name": "stdout",
     "output_type": "stream",
     "text": [
      "startTime: 1167638400.0\n",
      "endTime: 1199174399.0\n",
      "SELECT count(*) as 2007_Comments_Count from global_temp.Comments where (created_utc>=1167638400.0 and created_utc<=1199174399.0 )\n",
      "+-------------------+\n",
      "|2007_Comments_Count|\n",
      "+-------------------+\n",
      "|               2470|\n",
      "+-------------------+\n",
      "\n",
      "SELECT count(*) as iphone from global_temp.Comments where subreddit='iphone' and (created_utc>=1167638400.0 and created_utc<=1199174399.0 )\n",
      "+------+\n",
      "|iphone|\n",
      "+------+\n",
      "|     0|\n",
      "+------+\n",
      "\n"
     ]
    }
   ],
   "source": [
    ">>> import time\n",
    ">>> import datetime\n",
    ">>> dt = datetime.datetime.strptime('2007-01-01 00:00:00', '%Y-%m-%d %H:%M:%S')\n",
    "startTime=time.mktime(dt.timetuple())\n",
    "print(\"startTime:\",startTime)\n",
    ">>> dt = datetime.datetime.strptime('2007-12-31 23:59:59', '%Y-%m-%d %H:%M:%S')\n",
    "endTime=time.mktime(dt.timetuple())\n",
    "print(\"endTime:\",endTime)\n",
    "sqlString=\"SELECT count(*) as 2007_Comments_Count from global_temp.Comments where (created_utc>=%s and created_utc<=%s )\";\n",
    "sqlString= sqlString % (startTime, endTime)\n",
    "print(sqlString)\n",
    "sqlDF=spark.sql(sqlString)\n",
    "\n",
    "commentCount = sqlDF.show(df.count());\n",
    "\n",
    "\n",
    "sqlString=\"SELECT count(*) as iphone from global_temp.Comments where subreddit='iphone' and (created_utc>=%s and created_utc<=%s )\";\n",
    "sqlString= sqlString % (startTime, endTime)\n",
    "print(sqlString)\n",
    "sqlDF=spark.sql(sqlString)\n",
    "\n",
    "commentCount = sqlDF.show(df.count());\n"
   ]
  },
  {
   "cell_type": "markdown",
   "metadata": {},
   "source": [
    "# Calculate %10 of 2008 Comments"
   ]
  },
  {
   "cell_type": "code",
   "execution_count": 6,
   "metadata": {},
   "outputs": [
    {
     "name": "stdout",
     "output_type": "stream",
     "text": [
      "startTime: 1199174400.0\n",
      "endTime: 1230796799.0\n",
      "SELECT count(*) as 2008_Comments_Count from global_temp.Comments where (created_utc>=1199174400.0 and created_utc<=1230796799.0 )\n",
      "+-------------------+\n",
      "|2008_Comments_Count|\n",
      "+-------------------+\n",
      "|              72152|\n",
      "+-------------------+\n",
      "\n",
      "SELECT count(*) as iphone from global_temp.Comments where subreddit='iphone' and (created_utc>=1199174400.0 and created_utc<=1230796799.0 )\n",
      "+------+\n",
      "|iphone|\n",
      "+------+\n",
      "|     4|\n",
      "+------+\n",
      "\n"
     ]
    }
   ],
   "source": [
    ">>> import time\n",
    ">>> import datetime\n",
    ">>> dt = datetime.datetime.strptime('2008-01-01 00:00:00', '%Y-%m-%d %H:%M:%S')\n",
    "startTime=time.mktime(dt.timetuple())\n",
    "print(\"startTime:\",startTime)\n",
    ">>> dt = datetime.datetime.strptime('2008-12-31 23:59:59', '%Y-%m-%d %H:%M:%S')\n",
    "endTime=time.mktime(dt.timetuple())\n",
    "print(\"endTime:\",endTime)\n",
    "sqlString=\"SELECT count(*) as 2008_Comments_Count from global_temp.Comments where (created_utc>=%s and created_utc<=%s )\";\n",
    "sqlString= sqlString % (startTime, endTime)\n",
    "print(sqlString)\n",
    "sqlDF=spark.sql(sqlString)\n",
    "\n",
    "commentCount = sqlDF.show(df.count());\n",
    "\n",
    "sqlString=\"SELECT count(*) as iphone from global_temp.Comments where subreddit='iphone' and (created_utc>=%s and created_utc<=%s )\";\n",
    "sqlString= sqlString % (startTime, endTime)\n",
    "print(sqlString)\n",
    "sqlDF=spark.sql(sqlString)\n",
    "\n",
    "commentCount = sqlDF.show(df.count());"
   ]
  },
  {
   "cell_type": "markdown",
   "metadata": {},
   "source": [
    "# Calculate %10 of 2009 Comments"
   ]
  },
  {
   "cell_type": "code",
   "execution_count": 7,
   "metadata": {},
   "outputs": [
    {
     "name": "stdout",
     "output_type": "stream",
     "text": [
      "startTime: 1230796800.0\n",
      "endTime: 1262332799.0\n",
      "SELECT count(*) as 2009_Comments_Count from global_temp.Comments where (created_utc>=1230796800.0 and created_utc<=1262332799.0 )\n",
      "+-------------------+\n",
      "|2009_Comments_Count|\n",
      "+-------------------+\n",
      "|             188895|\n",
      "+-------------------+\n",
      "\n",
      "SELECT count(*) as iphone from global_temp.Comments where subreddit='iphone' and (created_utc>=1230796800.0 and created_utc<=1262332799.0 )\n",
      "+------+\n",
      "|iphone|\n",
      "+------+\n",
      "|    71|\n",
      "+------+\n",
      "\n"
     ]
    }
   ],
   "source": [
    ">>> import time\n",
    ">>> import datetime\n",
    ">>> dt = datetime.datetime.strptime('2009-01-01 00:00:00', '%Y-%m-%d %H:%M:%S')\n",
    "startTime=time.mktime(dt.timetuple())\n",
    "print(\"startTime:\",startTime)\n",
    ">>> dt = datetime.datetime.strptime('2009-12-31 23:59:59', '%Y-%m-%d %H:%M:%S')\n",
    "endTime=time.mktime(dt.timetuple())\n",
    "print(\"endTime:\",endTime)\n",
    "sqlString=\"SELECT count(*) as 2009_Comments_Count from global_temp.Comments where (created_utc>=%s and created_utc<=%s )\";\n",
    "sqlString= sqlString % (startTime, endTime)\n",
    "print(sqlString)\n",
    "sqlDF=spark.sql(sqlString)\n",
    "\n",
    "commentCount = sqlDF.show(df.count());\n",
    "\n",
    "sqlString=\"SELECT count(*) as iphone from global_temp.Comments where subreddit='iphone' and (created_utc>=%s and created_utc<=%s )\";\n",
    "sqlString= sqlString % (startTime, endTime)\n",
    "print(sqlString)\n",
    "sqlDF=spark.sql(sqlString)\n",
    "\n",
    "commentCount = sqlDF.show(df.count());"
   ]
  },
  {
   "cell_type": "markdown",
   "metadata": {},
   "source": [
    "# Calculate %10 of 2010 Comments"
   ]
  },
  {
   "cell_type": "code",
   "execution_count": 8,
   "metadata": {},
   "outputs": [
    {
     "name": "stdout",
     "output_type": "stream",
     "text": [
      "startTime: 1262332800.0\n",
      "EndTime: 1293868799.0\n",
      "SELECT count(*) as 2010_Comments_Count from global_temp.Comments where (created_utc>=1262332800.0 and created_utc<=1293868799.0 )\n",
      "+-------------------+\n",
      "|2010_Comments_Count|\n",
      "+-------------------+\n",
      "|             486081|\n",
      "+-------------------+\n",
      "\n",
      "SELECT count(*) as iphone from global_temp.Comments where subreddit='iphone' and (created_utc>=1262332800.0 and created_utc<=1293868799.0 )\n",
      "+------+\n",
      "|iphone|\n",
      "+------+\n",
      "|   484|\n",
      "+------+\n",
      "\n"
     ]
    }
   ],
   "source": [
    ">>> import time\n",
    ">>> import datetime\n",
    ">>> dt = datetime.datetime.strptime('2010-01-01 00:00:00', '%Y-%m-%d %H:%M:%S')\n",
    "startTime=time.mktime(dt.timetuple())\n",
    "print(\"startTime:\",startTime)\n",
    ">>> dt = datetime.datetime.strptime('2010-12-31 23:59:59', '%Y-%m-%d %H:%M:%S')\n",
    "endTime=time.mktime(dt.timetuple())\n",
    "print(\"EndTime:\",endTime)\n",
    "sqlString=\"SELECT count(*) as 2010_Comments_Count from global_temp.Comments where (created_utc>=%s and created_utc<=%s )\";\n",
    "sqlString= sqlString % (startTime, endTime)\n",
    "print(sqlString)\n",
    "sqlDF=spark.sql(sqlString)\n",
    "\n",
    "commentCount = sqlDF.show(df.count());\n",
    "\n",
    "sqlString=\"SELECT count(*) as iphone from global_temp.Comments where subreddit='iphone' and (created_utc>=%s and created_utc<=%s )\";\n",
    "sqlString= sqlString % (startTime, endTime)\n",
    "print(sqlString)\n",
    "sqlDF=spark.sql(sqlString)\n",
    "\n",
    "commentCount = sqlDF.show(df.count());"
   ]
  },
  {
   "cell_type": "markdown",
   "metadata": {},
   "source": [
    "# Calculate %10 of 2011 Comments"
   ]
  },
  {
   "cell_type": "code",
   "execution_count": 9,
   "metadata": {},
   "outputs": [
    {
     "name": "stdout",
     "output_type": "stream",
     "text": [
      "startTime: 1293868800.0\n",
      "EndTime: 1325404799.0\n",
      "SELECT count(*) as 2011_Comments_Count from global_temp.Comments where (created_utc>=1293868800.0 and created_utc<=1325404799.0 )\n",
      "+-------------------+\n",
      "|2011_Comments_Count|\n",
      "+-------------------+\n",
      "|            1234109|\n",
      "+-------------------+\n",
      "\n",
      "SELECT count(*) as iphone from global_temp.Comments where subreddit='iphone' and (created_utc>=1293868800.0 and created_utc<=1325404799.0 )\n",
      "+------+\n",
      "|iphone|\n",
      "+------+\n",
      "|  1202|\n",
      "+------+\n",
      "\n"
     ]
    }
   ],
   "source": [
    ">>> import time\n",
    ">>> import datetime\n",
    ">>> dt = datetime.datetime.strptime('2011-01-01 00:00:00', '%Y-%m-%d %H:%M:%S')\n",
    "startTime=time.mktime(dt.timetuple())\n",
    "print(\"startTime:\",startTime)\n",
    ">>> dt = datetime.datetime.strptime('2011-12-31 23:59:59', '%Y-%m-%d %H:%M:%S')\n",
    "endTime=time.mktime(dt.timetuple())\n",
    "print(\"EndTime:\",endTime)\n",
    "sqlString=\"SELECT count(*) as 2011_Comments_Count from global_temp.Comments where (created_utc>=%s and created_utc<=%s )\";\n",
    "sqlString= sqlString % (startTime, endTime)\n",
    "print(sqlString)\n",
    "sqlDF=spark.sql(sqlString)\n",
    "\n",
    "commentCount = sqlDF.show(df.count());\n",
    "\n",
    "sqlString=\"SELECT count(*) as iphone from global_temp.Comments where subreddit='iphone' and (created_utc>=%s and created_utc<=%s )\";\n",
    "sqlString= sqlString % (startTime, endTime)\n",
    "print(sqlString)\n",
    "sqlDF=spark.sql(sqlString)\n",
    "\n",
    "commentCount = sqlDF.show(df.count());"
   ]
  },
  {
   "cell_type": "markdown",
   "metadata": {},
   "source": [
    "# Calculate %10 of 2012 Comments"
   ]
  },
  {
   "cell_type": "code",
   "execution_count": 10,
   "metadata": {},
   "outputs": [
    {
     "name": "stdout",
     "output_type": "stream",
     "text": [
      "startTime: 1325404800.0\n",
      "endTime: 1357027199.0\n",
      "SELECT count(*) as 2012_Comments_Count from global_temp.Comments where (created_utc>=1325404800.0 and created_utc<=1357027199.0 )\n",
      "+-------------------+\n",
      "|2012_Comments_Count|\n",
      "+-------------------+\n",
      "|            2600418|\n",
      "+-------------------+\n",
      "\n",
      "SELECT count(*) as iphone from global_temp.Comments where subreddit='iphone' and (created_utc>=1325404800.0 and created_utc<=1357027199.0 )\n",
      "+------+\n",
      "|iphone|\n",
      "+------+\n",
      "|  2080|\n",
      "+------+\n",
      "\n"
     ]
    }
   ],
   "source": [
    ">>> import time\n",
    ">>> import datetime\n",
    ">>> dt = datetime.datetime.strptime('2012-01-01 00:00:00', '%Y-%m-%d %H:%M:%S')\n",
    "startTime=time.mktime(dt.timetuple())\n",
    "print(\"startTime:\",startTime)\n",
    ">>> dt = datetime.datetime.strptime('2012-12-31 23:59:59', '%Y-%m-%d %H:%M:%S')\n",
    "endTime=time.mktime(dt.timetuple())\n",
    "print(\"endTime:\",endTime)\n",
    "\n",
    "sqlString=\"SELECT count(*) as 2012_Comments_Count from global_temp.Comments where (created_utc>=%s and created_utc<=%s )\";\n",
    "sqlString= sqlString % (startTime, endTime)\n",
    "print(sqlString)\n",
    "sqlDF=spark.sql(sqlString)\n",
    "\n",
    "commentCount = sqlDF.show(df.count());\n",
    "\n",
    "sqlString=\"SELECT count(*) as iphone from global_temp.Comments where subreddit='iphone' and (created_utc>=%s and created_utc<=%s )\";\n",
    "sqlString= sqlString % (startTime, endTime)\n",
    "print(sqlString)\n",
    "sqlDF=spark.sql(sqlString)\n",
    "\n",
    "commentCount = sqlDF.show(df.count());"
   ]
  },
  {
   "cell_type": "markdown",
   "metadata": {},
   "source": [
    "# Calculate %10 of 2013 Comments"
   ]
  },
  {
   "cell_type": "code",
   "execution_count": 11,
   "metadata": {},
   "outputs": [
    {
     "name": "stdout",
     "output_type": "stream",
     "text": [
      "startTime: 1357027200.0\n",
      "endTime: 1388563199.0\n",
      "SELECT count(*) as 2013_Comments_Count from global_temp.Comments where (created_utc>=1357027200.0 and created_utc<=1388563199.0 )\n",
      "+-------------------+\n",
      "|2013_Comments_Count|\n",
      "+-------------------+\n",
      "|            4023935|\n",
      "+-------------------+\n",
      "\n",
      "SELECT count(*) as iphone from global_temp.Comments where subreddit='iphone' and (created_utc>=1357027200.0 and created_utc<=1388563199.0 )\n",
      "+------+\n",
      "|iphone|\n",
      "+------+\n",
      "|  1965|\n",
      "+------+\n",
      "\n"
     ]
    }
   ],
   "source": [
    ">>> import time\n",
    ">>> import datetime\n",
    ">>> dt = datetime.datetime.strptime('2013-01-01 00:00:00', '%Y-%m-%d %H:%M:%S')\n",
    "startTime=time.mktime(dt.timetuple())\n",
    "print(\"startTime:\",startTime)\n",
    ">>> dt = datetime.datetime.strptime('2013-12-31 23:59:59', '%Y-%m-%d %H:%M:%S')\n",
    "endTime=time.mktime(dt.timetuple())\n",
    "print(\"endTime:\",endTime)\n",
    "\n",
    "sqlString=\"SELECT count(*) as 2013_Comments_Count from global_temp.Comments where (created_utc>=%s and created_utc<=%s )\";\n",
    "sqlString= sqlString % (startTime, endTime)\n",
    "print(sqlString)\n",
    "sqlDF=spark.sql(sqlString)\n",
    "\n",
    "commentCount = sqlDF.show(df.count());\n",
    "\n",
    "sqlString=\"SELECT count(*) as iphone from global_temp.Comments where subreddit='iphone' and (created_utc>=%s and created_utc<=%s )\";\n",
    "sqlString= sqlString % (startTime, endTime)\n",
    "print(sqlString)\n",
    "sqlDF=spark.sql(sqlString)\n",
    "\n",
    "commentCount = sqlDF.show(df.count());"
   ]
  },
  {
   "cell_type": "markdown",
   "metadata": {},
   "source": [
    "# Calculate %10 of 2014 Comments"
   ]
  },
  {
   "cell_type": "code",
   "execution_count": 12,
   "metadata": {},
   "outputs": [
    {
     "name": "stdout",
     "output_type": "stream",
     "text": [
      "startTime: 1388563200.0\n",
      "endTime: 1420099199.0\n",
      "SELECT count(*) as 2014_Comments_Count from global_temp.Comments where (created_utc>=1388563200.0 and created_utc<=1420099199.0 )\n",
      "+-------------------+\n",
      "|2014_Comments_Count|\n",
      "+-------------------+\n",
      "|            5314609|\n",
      "+-------------------+\n",
      "\n",
      "SELECT count(*) as iphone from global_temp.Comments where subreddit='iphone' and (created_utc>=1388563200.0 and created_utc<=1420099199.0 )\n",
      "+------+\n",
      "|iphone|\n",
      "+------+\n",
      "|  2972|\n",
      "+------+\n",
      "\n"
     ]
    }
   ],
   "source": [
    ">>> import time\n",
    ">>> import datetime\n",
    ">>> dt = datetime.datetime.strptime('2014-01-01 00:00:00', '%Y-%m-%d %H:%M:%S')\n",
    "startTime=time.mktime(dt.timetuple())\n",
    "print(\"startTime:\",startTime)\n",
    ">>> dt = datetime.datetime.strptime('2014-12-31 23:59:59', '%Y-%m-%d %H:%M:%S')\n",
    "endTime=time.mktime(dt.timetuple())\n",
    "print(\"endTime:\",endTime)\n",
    "\n",
    "sqlString=\"SELECT count(*) as 2014_Comments_Count from global_temp.Comments where (created_utc>=%s and created_utc<=%s )\";\n",
    "sqlString= sqlString % (startTime, endTime)\n",
    "print(sqlString)\n",
    "sqlDF=spark.sql(sqlString)\n",
    "\n",
    "commentCount = sqlDF.show(df.count());\n",
    "\n",
    "sqlString=\"SELECT count(*) as iphone from global_temp.Comments where subreddit='iphone' and (created_utc>=%s and created_utc<=%s )\";\n",
    "sqlString= sqlString % (startTime, endTime)\n",
    "print(sqlString)\n",
    "sqlDF=spark.sql(sqlString)\n",
    "\n",
    "commentCount = sqlDF.show(df.count());\n"
   ]
  },
  {
   "cell_type": "markdown",
   "metadata": {},
   "source": [
    "# Calculate %10 of 2015 Comments"
   ]
  },
  {
   "cell_type": "code",
   "execution_count": 13,
   "metadata": {},
   "outputs": [
    {
     "name": "stdout",
     "output_type": "stream",
     "text": [
      "startTime: 1420099200.0\n",
      "endTime: 1451635199.0\n",
      "SELECT count(*) as 2015_Comments_Count from global_temp.Comments where (created_utc>=1420099200.0 and created_utc<=1451635199.0 )\n",
      "+-------------------+\n",
      "|2015_Comments_Count|\n",
      "+-------------------+\n",
      "|            6676567|\n",
      "+-------------------+\n",
      "\n",
      "SELECT count(*) as iphone from global_temp.Comments where subreddit='iphone' and (created_utc>=1420099200.0 and created_utc<=1451635199.0 )\n",
      "+------+\n",
      "|iphone|\n",
      "+------+\n",
      "|  2631|\n",
      "+------+\n",
      "\n"
     ]
    }
   ],
   "source": [
    ">>> import time\n",
    ">>> import datetime\n",
    ">>> dt = datetime.datetime.strptime('2015-01-01 00:00:00', '%Y-%m-%d %H:%M:%S')\n",
    "startTime=time.mktime(dt.timetuple())\n",
    "print(\"startTime:\",startTime)\n",
    ">>> dt = datetime.datetime.strptime('2015-12-31 23:59:59', '%Y-%m-%d %H:%M:%S')\n",
    "endTime=time.mktime(dt.timetuple())\n",
    "print(\"endTime:\",endTime)\n",
    "\n",
    "sqlString=\"SELECT count(*) as 2015_Comments_Count from global_temp.Comments where (created_utc>=%s and created_utc<=%s )\";\n",
    "sqlString= sqlString % (startTime, endTime)\n",
    "print(sqlString)\n",
    "sqlDF=spark.sql(sqlString)\n",
    "\n",
    "commentCount = sqlDF.show(df.count());\n",
    "\n",
    "sqlString=\"SELECT count(*) as iphone from global_temp.Comments where subreddit='iphone' and (created_utc>=%s and created_utc<=%s )\";\n",
    "sqlString= sqlString % (startTime, endTime)\n",
    "print(sqlString)\n",
    "sqlDF=spark.sql(sqlString)\n",
    "\n",
    "commentCount = sqlDF.show(df.count());\n"
   ]
  },
  {
   "cell_type": "markdown",
   "metadata": {},
   "source": [
    "# Calculate %10 of 2016 Comments"
   ]
  },
  {
   "cell_type": "code",
   "execution_count": 2,
   "metadata": {},
   "outputs": [
    {
     "name": "stdout",
     "output_type": "stream",
     "text": [
      "startTime: 1451635200.0\n",
      "endTime: 1483257599.0\n",
      "SELECT count(*) as 2016_Comments_Count from global_temp.Comments where (created_utc>=1451635200.0 and created_utc<=1483257599.0 )\n",
      "+-------------------+\n",
      "|2016_Comments_Count|\n",
      "+-------------------+\n",
      "|            7994741|\n",
      "+-------------------+\n",
      "\n",
      "SELECT count(*) as iphone from global_temp.Comments where subreddit='iphone' and (created_utc>=1451635200.0 and created_utc<=1483257599.0 )\n",
      "+------+\n",
      "|iphone|\n",
      "+------+\n",
      "|  3668|\n",
      "+------+\n",
      "\n"
     ]
    }
   ],
   "source": [
    ">>> import time\n",
    ">>> import datetime\n",
    ">>> dt = datetime.datetime.strptime('2016-01-01 00:00:00', '%Y-%m-%d %H:%M:%S')\n",
    "startTime=time.mktime(dt.timetuple())\n",
    "print(\"startTime:\",startTime)\n",
    ">>> dt = datetime.datetime.strptime('2016-12-31 23:59:59', '%Y-%m-%d %H:%M:%S')\n",
    "endTime=time.mktime(dt.timetuple())\n",
    "print(\"endTime:\",endTime)\n",
    "\n",
    "sqlString=\"SELECT count(*) as 2016_Comments_Count from global_temp.Comments where (created_utc>=%s and created_utc<=%s )\";\n",
    "sqlString= sqlString % (startTime, endTime)\n",
    "print(sqlString)\n",
    "sqlDF=spark.sql(sqlString)\n",
    "\n",
    "commentCount = sqlDF.show(df.count());\n",
    "\n",
    "sqlString=\"SELECT count(*) as iphone from global_temp.Comments where subreddit='iphone' and (created_utc>=%s and created_utc<=%s )\";\n",
    "sqlString= sqlString % (startTime, endTime)\n",
    "print(sqlString)\n",
    "sqlDF=spark.sql(sqlString)\n",
    "\n",
    "commentCount = sqlDF.show(df.count());\n"
   ]
  },
  {
   "cell_type": "markdown",
   "metadata": {},
   "source": [
    "# Calculate %10 of 2017 Comments"
   ]
  },
  {
   "cell_type": "code",
   "execution_count": 14,
   "metadata": {},
   "outputs": [
    {
     "name": "stdout",
     "output_type": "stream",
     "text": [
      "startTime: 1483257600.0\n",
      "endTime: 1514793599.0\n",
      "SELECT count(*) as 2017_Comments_Count from global_temp.Comments where (created_utc>=1483257600.0 and created_utc<=1514793599.0 )\n",
      "+-------------------+\n",
      "|2017_Comments_Count|\n",
      "+-------------------+\n",
      "|            2287357|\n",
      "+-------------------+\n",
      "\n",
      "SELECT count(*) as iphone from global_temp.Comments where subreddit='iphone' and (created_utc>=1483257600.0 and created_utc<=1514793599.0 )\n",
      "+------+\n",
      "|iphone|\n",
      "+------+\n",
      "|   722|\n",
      "+------+\n",
      "\n"
     ]
    }
   ],
   "source": [
    ">>> import time\n",
    ">>> import datetime\n",
    ">>> dt = datetime.datetime.strptime('2017-01-01 00:00:00', '%Y-%m-%d %H:%M:%S')\n",
    "startTime=time.mktime(dt.timetuple())\n",
    "print(\"startTime:\",startTime)\n",
    ">>> dt = datetime.datetime.strptime('2017-12-31 23:59:59', '%Y-%m-%d %H:%M:%S')\n",
    "endTime=time.mktime(dt.timetuple())\n",
    "print(\"endTime:\",endTime)\n",
    "\n",
    "sqlString=\"SELECT count(*) as 2017_Comments_Count from global_temp.Comments where (created_utc>=%s and created_utc<=%s )\";\n",
    "sqlString= sqlString % (startTime, endTime)\n",
    "print(sqlString)\n",
    "sqlDF=spark.sql(sqlString)\n",
    "\n",
    "commentCount = sqlDF.show(df.count());\n",
    "\n",
    "\n",
    "sqlString=\"SELECT count(*) as iphone from global_temp.Comments where subreddit='iphone' and (created_utc>=%s and created_utc<=%s )\";\n",
    "sqlString= sqlString % (startTime, endTime)\n",
    "print(sqlString)\n",
    "sqlDF=spark.sql(sqlString)\n",
    "\n",
    "commentCount = sqlDF.show(df.count());\n"
   ]
  },
  {
   "cell_type": "code",
   "execution_count": null,
   "metadata": {},
   "outputs": [],
   "source": []
  }
 ],
 "metadata": {
  "kernelspec": {
   "display_name": "Python 3",
   "language": "python",
   "name": "python3"
  },
  "language_info": {
   "codemirror_mode": {
    "name": "ipython",
    "version": 3
   },
   "file_extension": ".py",
   "mimetype": "text/x-python",
   "name": "python",
   "nbconvert_exporter": "python",
   "pygments_lexer": "ipython3",
   "version": "3.7.3"
  }
 },
 "nbformat": 4,
 "nbformat_minor": 2
}
