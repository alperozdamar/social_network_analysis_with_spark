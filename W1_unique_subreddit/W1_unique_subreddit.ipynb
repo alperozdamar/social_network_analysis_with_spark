{
 "cells": [
  {
   "cell_type": "markdown",
   "metadata": {},
   "source": [
    "### How many unique subreddits are there?"
   ]
  },
  {
   "cell_type": "code",
   "execution_count": 2,
   "metadata": {},
   "outputs": [
    {
     "name": "stdout",
     "output_type": "stream",
     "text": [
      "+------------------+\n",
      "|         subreddit|\n",
      "+------------------+\n",
      "|        MensRights|\n",
      "|            travel|\n",
      "|             anime|\n",
      "|           Amateur|\n",
      "|          Warcraft|\n",
      "|   BodyCountReddit|\n",
      "|           jewelry|\n",
      "|         left4dead|\n",
      "|      SaltLakeCity|\n",
      "|            lojban|\n",
      "|        Nightmares|\n",
      "|        ArtHistory|\n",
      "|            Daleks|\n",
      "|      couchsurfing|\n",
      "|       ItsNotOnion|\n",
      "|          lacrosse|\n",
      "|      redditresort|\n",
      "|         traveling|\n",
      "|culturalimmersion8|\n",
      "|        pokewalker|\n",
      "+------------------+\n",
      "only showing top 20 rows\n",
      "\n"
     ]
    }
   ],
   "source": [
    "df = sqlContext.read.json(\"hdfs://orion11:11001/reddit/*/*\")\n",
    "# Displays the content of the DataFrame to stdout\n",
    "subredditDF = df.select(\"subreddit\").distinct()\n",
    "subredditDF.show()"
   ]
  },
  {
   "cell_type": "code",
   "execution_count": 3,
   "metadata": {},
   "outputs": [
    {
     "name": "stdout",
     "output_type": "stream",
     "text": [
      "Number of subreddit: 456648\n"
     ]
    }
   ],
   "source": [
    "print(\"Number of subreddit: \" + str(subredditDF.count()))"
   ]
  },
  {
   "cell_type": "code",
   "execution_count": null,
   "metadata": {},
   "outputs": [],
   "source": []
  }
 ],
 "metadata": {
  "kernelspec": {
   "display_name": "Python 3",
   "language": "python",
   "name": "python3"
  },
  "language_info": {
   "codemirror_mode": {
    "name": "ipython",
    "version": 3
   },
   "file_extension": ".py",
   "mimetype": "text/x-python",
   "name": "python",
   "nbconvert_exporter": "python",
   "pygments_lexer": "ipython3",
   "version": "3.7.3"
  }
 },
 "nbformat": 4,
 "nbformat_minor": 2
}
