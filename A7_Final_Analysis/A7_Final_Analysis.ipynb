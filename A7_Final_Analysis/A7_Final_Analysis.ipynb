{
 "cells": [
  {
   "cell_type": "markdown",
   "metadata": {},
   "source": [
    "# Analysis-7 Final Analysis"
   ]
  },
  {
   "cell_type": "markdown",
   "metadata": {},
   "source": [
    "You’ve had the opportunity to analyze two datasets thus far; now it’s time to analyze a dataset of your own. Find a dataset online and use Spark (or Hadoop) to analyze it. You should:\n",
    "\n",
    "1. Describe the dataset (Earthquack)\n",
    "2. Outline the types of insights you hope to gain from it\n",
    "3. Make hypotheses about what you might find\n",
    "4. Design at least 3 “questions” (along the lines of those above) and answer them. Remember that presentation matters here. ML Models are a good choice for some of the datasets; you can describe what you’ll try to predict or classify and outline your experiences with various models.\n"
   ]
  },
  {
   "attachments": {},
   "cell_type": "markdown",
   "metadata": {},
   "source": [
    "## Description \n",
    "\n",
    "### **Describe the dataset:**\n",
    "In this Problem Analysis, we have used 2 dataset: <br/>\n",
    "\n",
    "1. Three THz databases: \n",
    "[NIST](https://physics.nist.gov/PhysRefData/ASD/lines_form.html)\n",
    "\n",
    "2. Earthquake database:\n",
    "[USGS](https://earthquake.usgs.gov/earthquakes/search/) <br/>\n",
    "We will talk about Earthquake data base in the second section\n",
    "\n",
    "\n",
    "### **Outline the types of insights you hope to gain from it:**\n",
    "After this statistic analysis we hope to gain the following information:\n",
    "\n",
    "1) Tera Herts Prediction - In this study we try to predict the required frequency to receive a certain gas in the gas chamber. \n",
    "\n",
    "### **Make hypotheses about what you might find:**\n",
    "\n",
    "Our study in this question is about Tera Hertz environment, clean room chamber and Gas measurement. This test environment is not easy to be build,  access and generaye tera herts frequency. <br/>\n",
    "In addition, running the test needs chamber calibration and several setups that is time consuming and costly operation. <br/>\n",
    "We would like to use machine learning based on the conducted test result to predict the presence of some gas in the chamber like CF4, C4F6, SF6, NF3, CL2, HBr and Ar when the frequency increased (THz). <br/>\n",
    "The question is in which frequency we can find the particular gas without conducting the test. \n",
    "***(Getting test result without conducting the test)***\n",
    "\n",
    "\n",
    "\n",
    "### **Question 1: Composition Detection:**\n",
    "\n",
    "\n",
    "####  In which Tera Hertz frequency we can find the particular gas without conducting the test.\n",
    "\n"
   ]
  },
  {
   "cell_type": "markdown",
   "metadata": {},
   "source": [
    "### Backround:\n",
    "### ***All data in this section is confidential, Please do not expose it to others*** <br/>\n",
    "A requirement has been located to detect and identify chemical composition of process gases in semiconductor processing. \n",
    " - Gas Species Detection\n",
    " - Molecular Density Detection\n",
    " - Particle Detection\n",
    " \n",
    "Additional applications for composition detection exist such as solid, Liquid, Gas, Plasma Composition Detection\n",
    "\n",
    "### Use Cases:\n",
    "\n",
    "- Plasma Etch for Semiconductor Processing\n",
    "- Factory Emissions\n",
    "- Process Gas\n",
    "- Agriculture Gas\n",
    "\n",
    "\n",
    "Semiconductor fabrication applications currently have very accurate Mass Flow Controllers for gas as well as a mixture sensor, but have less capability to detect the reactions and mixtures inside the chamber, so composition detection is an area that holds a lot of promise and potential value. <br/>\n",
    "\n",
    "The idea was generated from a need to monitor gas composition in a plasma etch chamber.  This chamber has a number of gases inside that are converted to a plasma.  The gas composition in the chamber is not always known or obvious.  A desired result is to be able to detect the composition of the gas at any point within the chamber.\n",
    "\n",
    "Sensing Composition is showing in the following Figure:\n",
    "\n",
    "![Sensing Composition](decomposition1.png)\n",
    "**Sensing Composition**\n",
    "\n",
    "A test condition is shown bellow:\n",
    "\n",
    "\n",
    "![Test Environment](decomposition2.png)\n",
    "**Test Environment**"
   ]
  },
  {
   "cell_type": "code",
   "execution_count": 9,
   "metadata": {},
   "outputs": [
    {
     "name": "stdout",
     "output_type": "stream",
     "text": [
      "CPU times: user 5.87 ms, sys: 1.43 ms, total: 7.3 ms\n",
      "Wall time: 8.53 ms\n"
     ]
    },
    {
     "data": {
      "text/html": [
       "<div>\n",
       "<style scoped>\n",
       "    .dataframe tbody tr th:only-of-type {\n",
       "        vertical-align: middle;\n",
       "    }\n",
       "\n",
       "    .dataframe tbody tr th {\n",
       "        vertical-align: top;\n",
       "    }\n",
       "\n",
       "    .dataframe thead th {\n",
       "        text-align: right;\n",
       "    }\n",
       "</style>\n",
       "<table border=\"1\" class=\"dataframe\">\n",
       "  <thead>\n",
       "    <tr style=\"text-align: right;\">\n",
       "      <th></th>\n",
       "      <th>Frequency</th>\n",
       "      <th>T0Magnitude</th>\n",
       "      <th>T1Magnitude</th>\n",
       "      <th>T2Magnitude</th>\n",
       "      <th>T3Magnitude</th>\n",
       "      <th>T4Magnitude</th>\n",
       "      <th>T5Magnitude</th>\n",
       "    </tr>\n",
       "  </thead>\n",
       "  <tbody>\n",
       "    <tr>\n",
       "      <th>0</th>\n",
       "      <td>500000000000</td>\n",
       "      <td>-6.343524</td>\n",
       "      <td>2.760528</td>\n",
       "      <td>3.605897</td>\n",
       "      <td>3.605897</td>\n",
       "      <td>3.783415</td>\n",
       "      <td>3.266107</td>\n",
       "    </tr>\n",
       "    <tr>\n",
       "      <th>1</th>\n",
       "      <td>500625000000</td>\n",
       "      <td>-2.896793</td>\n",
       "      <td>9.467415</td>\n",
       "      <td>9.451552</td>\n",
       "      <td>9.451552</td>\n",
       "      <td>9.099237</td>\n",
       "      <td>10.419175</td>\n",
       "    </tr>\n",
       "    <tr>\n",
       "      <th>2</th>\n",
       "      <td>501250000000</td>\n",
       "      <td>-5.108785</td>\n",
       "      <td>2.764290</td>\n",
       "      <td>3.428777</td>\n",
       "      <td>3.428777</td>\n",
       "      <td>3.711671</td>\n",
       "      <td>4.391353</td>\n",
       "    </tr>\n",
       "    <tr>\n",
       "      <th>3</th>\n",
       "      <td>501875000000</td>\n",
       "      <td>-4.820845</td>\n",
       "      <td>4.679888</td>\n",
       "      <td>2.065727</td>\n",
       "      <td>2.065727</td>\n",
       "      <td>1.236219</td>\n",
       "      <td>2.071507</td>\n",
       "    </tr>\n",
       "    <tr>\n",
       "      <th>4</th>\n",
       "      <td>502500000000</td>\n",
       "      <td>2.627637</td>\n",
       "      <td>5.532441</td>\n",
       "      <td>5.513204</td>\n",
       "      <td>5.513204</td>\n",
       "      <td>5.661697</td>\n",
       "      <td>6.431253</td>\n",
       "    </tr>\n",
       "  </tbody>\n",
       "</table>\n",
       "</div>"
      ],
      "text/plain": [
       "      Frequency  T0Magnitude  T1Magnitude  T2Magnitude  T3Magnitude  \\\n",
       "0  500000000000    -6.343524     2.760528     3.605897     3.605897   \n",
       "1  500625000000    -2.896793     9.467415     9.451552     9.451552   \n",
       "2  501250000000    -5.108785     2.764290     3.428777     3.428777   \n",
       "3  501875000000    -4.820845     4.679888     2.065727     2.065727   \n",
       "4  502500000000     2.627637     5.532441     5.513204     5.513204   \n",
       "\n",
       "   T4Magnitude  T5Magnitude  \n",
       "0     3.783415     3.266107  \n",
       "1     9.099237    10.419175  \n",
       "2     3.711671     4.391353  \n",
       "3     1.236219     2.071507  \n",
       "4     5.661697     6.431253  "
      ]
     },
     "execution_count": 9,
     "metadata": {},
     "output_type": "execute_result"
    }
   ],
   "source": [
    "%%time\n",
    "import pandas as pd\n",
    "    \n",
    "# Load data\n",
    "gas_file_path = '/home4/rteymourzadeh/Project3BigData/P3-p3-hiep_alper_team/A7_Final_Analysis/ab_all2.csv'\n",
    "gas_data = pd.read_csv(gas_file_path) \n",
    "\n",
    "gas_data.head() \n",
    "\n"
   ]
  },
  {
   "cell_type": "code",
   "execution_count": 19,
   "metadata": {},
   "outputs": [
    {
     "data": {
      "image/png": "[encoded data removed]",
      "text/plain": [
       "<Figure size 432x288 with 1 Axes>"
      ]
     },
     "metadata": {
      "needs_background": "light"
     },
     "output_type": "display_data"
    }
   ],
   "source": [
    "# import plotly.express as px\n",
    "# fig = px.line(df, x = 'Frequency', y = 'T0Magnitude', title='Frequency vs Magnitude plot')\n",
    "# fig.show()\n",
    "import matplotlib.pyplot as plt\n",
    "import csv\n",
    "\n",
    "x = []\n",
    "y = []\n",
    "\n",
    "with open('/home4/rteymourzadeh/Project3BigData/P3-p3-hiep_alper_team/A7_Final_Analysis/ab_all2_plot.csv','r') as csvfile:\n",
    "    plots = csv.reader(csvfile, delimiter=',')\n",
    "    for row in plots:\n",
    "        x.append((row[0]))\n",
    "        y.append((row[1]))\n",
    "\n",
    "plt.plot(x,y, label='Loaded from file!',)\n",
    "plt.xlabel('x')\n",
    "plt.ylabel('y')\n",
    "plt.title('Interesting Graph\\nCheck it out')\n",
    "plt.legend()\n",
    "plt.show()"
   ]
  },
  {
   "cell_type": "code",
   "execution_count": 5,
   "metadata": {},
   "outputs": [
    {
     "name": "stdout",
     "output_type": "stream",
     "text": [
      "Index(['Frequency', 'T0Magnitude', 'T1Magnitude', 'T2Magnitude', 'T3Magnitude',\n",
      "       'T4Magnitude', 'T5Magnitude'],\n",
      "      dtype='object')\n"
     ]
    }
   ],
   "source": [
    "gas_data.columns\n",
    "print(gas_data.columns)\n",
    "\n",
    "# Choose target and features\n",
    "y = gas_data.Frequency\n",
    "gas_test_features =['T0Magnitude', 'T1Magnitude', 'T2Magnitude', 'T3Magnitude', 'T4Magnitude','T5Magnitude']\n",
    "\n",
    "x = gas_data[gas_test_features]\n",
    "\n",
    "from sklearn.model_selection import train_test_split\n",
    "\n",
    "# split data into training and validation data, for both features and target\n",
    "# The split is based on a random number generator. Supplying a numeric value to\n",
    "# the random_state argument guarantees we get the same split every time we\n",
    "# run this script.\n",
    "train_X, val_X, train_y, val_y = train_test_split(x, y,random_state = 0)"
   ]
  },
  {
   "cell_type": "code",
   "execution_count": 6,
   "metadata": {},
   "outputs": [
    {
     "name": "stdout",
     "output_type": "stream",
     "text": [
      "[6.310375e+11]\n",
      "CPU times: user 163 ms, sys: 16.8 ms, total: 180 ms\n",
      "Wall time: 483 ms\n"
     ]
    }
   ],
   "source": [
    "%%time\n",
    "from sklearn.linear_model import LinearRegression \n",
    "from sklearn.ensemble import RandomForestRegressor\n",
    "import numpy as np\n",
    "\n",
    "np_arr1 = np.array([[-7.343523893, 8.760527876, 9.605897191, 7.605897191, 9.783415023 , 0.266106651]])\n",
    "\n",
    "\n",
    "# from sklearn.metrics import mean_absolute_error\n",
    "\n",
    "forest_model = RandomForestRegressor(n_estimators=100,random_state=1)\n",
    "# forest_model = LinearRegression()\n",
    "\n",
    "# forest_model.fit(train_X, train_y)\n",
    "forest_model.fit(train_X,train_y)\n",
    "\n",
    "\n",
    "# val_X=val_X.insert([4],[2017])\n",
    "melb_preds = forest_model.predict(np_arr1)\n",
    "print(melb_preds)\n"
   ]
  },
  {
   "cell_type": "code",
   "execution_count": 11,
   "metadata": {},
   "outputs": [
    {
     "name": "stdout",
     "output_type": "stream",
     "text": [
      "Index(['Frequency', 'T0Magnitude', 'T1Magnitude', 'T2Magnitude', 'T3Magnitude',\n",
      "       'T4Magnitude', 'T5Magnitude'],\n",
      "      dtype='object')\n",
      "CPU times: user 4.65 ms, sys: 731 µs, total: 5.39 ms\n",
      "Wall time: 6.48 ms\n"
     ]
    }
   ],
   "source": [
    "%%time\n",
    "import pandas as pd\n",
    "    \n",
    "# Load data\n",
    "gas_file_path = '/home4/rteymourzadeh/Project3BigData/P3-p3-hiep_alper_team/A7_Final_Analysis/ab_all2.csv'\n",
    "gas_data = pd.read_csv(gas_file_path) \n",
    "gas_data.columns\n",
    "print(gas_data.columns)\n",
    "\n",
    "# Choose target and features\n",
    "x = gas_data.Frequency\n",
    "gas_test_features =['T0Magnitude', 'T1Magnitude', 'T2Magnitude', 'T3Magnitude', 'T4Magnitude','T5Magnitude']\n",
    "\n",
    "y = gas_data[gas_test_features]\n",
    "\n",
    "from sklearn.model_selection import train_test_split\n",
    "\n",
    "# split data into training and validation data, for both features and target\n",
    "# The split is based on a random number generator. Supplying a numeric value to\n",
    "# the random_state argument guarantees we get the same split every time we\n",
    "# run this script.\n",
    "train_X, val_X, train_y, val_y = train_test_split(x, y,random_state = 0)"
   ]
  },
  {
   "cell_type": "code",
   "execution_count": 15,
   "metadata": {
    "scrolled": true
   },
   "outputs": [
    {
     "ename": "ValueError",
     "evalue": "Expected 2D array, got 1D array instead:\narray=[566250000000 633750000000 725000000000 656250000000 658125000000\n 539375000000 730000000000 648750000000 677500000000 713125000000\n 550625000000 566875000000 718750000000 708750000000 662500000000\n 560000000000 590000000000 555625000000 719375000000 513125000000\n 611875000000 636875000000 688125000000 530625000000 650625000000\n 628750000000 557500000000 665000000000 745625000000 694375000000\n 654375000000 639375000000 541250000000 728125000000 606875000000\n 563125000000 695000000000 622500000000 704375000000 510625000000\n 693750000000 653750000000 518750000000 571250000000 595625000000\n 564375000000 685625000000 663125000000 650000000000 572500000000\n 706875000000 575000000000 616250000000 570000000000 636250000000\n 585000000000 672500000000 578750000000 638125000000 687500000000\n 676250000000 583125000000 520625000000 736875000000 601250000000\n 521250000000 635000000000 560625000000 553125000000 538125000000\n 604375000000 746250000000 721875000000 745000000000 645625000000\n 744375000000 567500000000 695625000000 528750000000 736250000000\n 621250000000 718125000000 545625000000 585625000000 738750000000\n 725625000000 646250000000 518125000000 613125000000 680625000000\n 670000000000 531875000000 705625000000 720625000000 516875000000\n 501250000000 637500000000 597500000000 634375000000 735625000000\n 640000000000 586250000000 649375000000 683125000000 671875000000\n 697500000000 692500000000 743125000000 521875000000 627500000000\n 675625000000 631250000000 541875000000 515000000000 667500000000\n 527500000000 715000000000 580625000000 558125000000 569375000000\n 603750000000 673750000000 696875000000 671250000000 525000000000\n 511250000000 727500000000 549375000000 657500000000 658750000000\n 544375000000 508125000000 711875000000 633125000000 741250000000\n 653125000000 642500000000 600000000000 565000000000 600625000000\n 551875000000 618125000000 748750000000 573750000000 705000000000\n 617500000000 630000000000 735000000000 568750000000 593125000000\n 598125000000 595000000000 510000000000 678750000000 546875000000\n 568125000000 675000000000 586875000000 648125000000 700000000000\n 655000000000 693125000000 511875000000 641250000000 691875000000\n 501875000000 743750000000 578125000000 548125000000 615000000000\n 688750000000 737500000000 716875000000 613750000000 723125000000\n 550000000000 661250000000 506875000000 686875000000 553750000000\n 666250000000 522500000000 739375000000 536250000000 525625000000\n 668750000000 531250000000 630625000000 698750000000 698125000000\n 707500000000 576875000000 638750000000 538750000000 689375000000\n 581250000000 616875000000 514375000000 526875000000 500000000000\n 625625000000 712500000000 561250000000 742500000000 611250000000\n 660000000000 558750000000 731250000000 559375000000 720000000000\n 605625000000 543125000000 690625000000 530000000000 629375000000\n 674375000000 641875000000 592500000000 589375000000 612500000000\n 581875000000 723750000000 749375000000 663750000000 702500000000\n 626875000000 552500000000 575625000000 716250000000 729375000000\n 556875000000 551250000000 666875000000 574375000000 681875000000\n 535625000000 700625000000 660625000000 722500000000 526250000000\n 565625000000 730625000000 670625000000 721250000000 523750000000\n 533125000000 717500000000 580000000000 681250000000 517500000000\n 614375000000 601875000000 594375000000 652500000000 626250000000\n 519375000000 520000000000 579375000000 615625000000 733125000000\n 680000000000 726875000000 591875000000 678125000000 731875000000\n 610625000000 561875000000 711250000000 709375000000 623125000000\n 651875000000 571875000000 665625000000 545000000000 708125000000\n 515625000000 603125000000 710625000000 740625000000 608750000000\n 741875000000 524375000000 620625000000 696250000000 555000000000\n 543750000000 554375000000 682500000000 651250000000 673125000000\n 631875000000 505625000000 724375000000 621875000000 656875000000\n 701875000000 620000000000 573125000000 529375000000 607500000000].\nReshape your data either using array.reshape(-1, 1) if your data has a single feature or array.reshape(1, -1) if it contains a single sample.",
     "output_type": "error",
     "traceback": [
      "\u001b[0;31m---------------------------------------------------------------------------\u001b[0m",
      "\u001b[0;31mValueError\u001b[0m                                Traceback (most recent call last)",
      "\u001b[0;32m<timed exec>\u001b[0m in \u001b[0;36m<module>\u001b[0;34m\u001b[0m\n",
      "\u001b[0;32m/home2/anaconda3/lib/python3.7/site-packages/sklearn/linear_model/base.py\u001b[0m in \u001b[0;36mfit\u001b[0;34m(self, X, y, sample_weight)\u001b[0m\n\u001b[1;32m    461\u001b[0m         \u001b[0mn_jobs_\u001b[0m \u001b[0;34m=\u001b[0m \u001b[0mself\u001b[0m\u001b[0;34m.\u001b[0m\u001b[0mn_jobs\u001b[0m\u001b[0;34m\u001b[0m\u001b[0;34m\u001b[0m\u001b[0m\n\u001b[1;32m    462\u001b[0m         X, y = check_X_y(X, y, accept_sparse=['csr', 'csc', 'coo'],\n\u001b[0;32m--> 463\u001b[0;31m                          y_numeric=True, multi_output=True)\n\u001b[0m\u001b[1;32m    464\u001b[0m \u001b[0;34m\u001b[0m\u001b[0m\n\u001b[1;32m    465\u001b[0m         \u001b[0;32mif\u001b[0m \u001b[0msample_weight\u001b[0m \u001b[0;32mis\u001b[0m \u001b[0;32mnot\u001b[0m \u001b[0;32mNone\u001b[0m \u001b[0;32mand\u001b[0m \u001b[0mnp\u001b[0m\u001b[0;34m.\u001b[0m\u001b[0matleast_1d\u001b[0m\u001b[0;34m(\u001b[0m\u001b[0msample_weight\u001b[0m\u001b[0;34m)\u001b[0m\u001b[0;34m.\u001b[0m\u001b[0mndim\u001b[0m \u001b[0;34m>\u001b[0m \u001b[0;36m1\u001b[0m\u001b[0;34m:\u001b[0m\u001b[0;34m\u001b[0m\u001b[0;34m\u001b[0m\u001b[0m\n",
      "\u001b[0;32m/home2/anaconda3/lib/python3.7/site-packages/sklearn/utils/validation.py\u001b[0m in \u001b[0;36mcheck_X_y\u001b[0;34m(X, y, accept_sparse, accept_large_sparse, dtype, order, copy, force_all_finite, ensure_2d, allow_nd, multi_output, ensure_min_samples, ensure_min_features, y_numeric, warn_on_dtype, estimator)\u001b[0m\n\u001b[1;32m    717\u001b[0m                     \u001b[0mensure_min_features\u001b[0m\u001b[0;34m=\u001b[0m\u001b[0mensure_min_features\u001b[0m\u001b[0;34m,\u001b[0m\u001b[0;34m\u001b[0m\u001b[0;34m\u001b[0m\u001b[0m\n\u001b[1;32m    718\u001b[0m                     \u001b[0mwarn_on_dtype\u001b[0m\u001b[0;34m=\u001b[0m\u001b[0mwarn_on_dtype\u001b[0m\u001b[0;34m,\u001b[0m\u001b[0;34m\u001b[0m\u001b[0;34m\u001b[0m\u001b[0m\n\u001b[0;32m--> 719\u001b[0;31m                     estimator=estimator)\n\u001b[0m\u001b[1;32m    720\u001b[0m     \u001b[0;32mif\u001b[0m \u001b[0mmulti_output\u001b[0m\u001b[0;34m:\u001b[0m\u001b[0;34m\u001b[0m\u001b[0;34m\u001b[0m\u001b[0m\n\u001b[1;32m    721\u001b[0m         y = check_array(y, 'csr', force_all_finite=True, ensure_2d=False,\n",
      "\u001b[0;32m/home2/anaconda3/lib/python3.7/site-packages/sklearn/utils/validation.py\u001b[0m in \u001b[0;36mcheck_array\u001b[0;34m(array, accept_sparse, accept_large_sparse, dtype, order, copy, force_all_finite, ensure_2d, allow_nd, ensure_min_samples, ensure_min_features, warn_on_dtype, estimator)\u001b[0m\n\u001b[1;32m    519\u001b[0m                     \u001b[0;34m\"Reshape your data either using array.reshape(-1, 1) if \"\u001b[0m\u001b[0;34m\u001b[0m\u001b[0;34m\u001b[0m\u001b[0m\n\u001b[1;32m    520\u001b[0m                     \u001b[0;34m\"your data has a single feature or array.reshape(1, -1) \"\u001b[0m\u001b[0;34m\u001b[0m\u001b[0;34m\u001b[0m\u001b[0m\n\u001b[0;32m--> 521\u001b[0;31m                     \"if it contains a single sample.\".format(array))\n\u001b[0m\u001b[1;32m    522\u001b[0m \u001b[0;34m\u001b[0m\u001b[0m\n\u001b[1;32m    523\u001b[0m         \u001b[0;31m# in the future np.flexible dtypes will be handled like object dtypes\u001b[0m\u001b[0;34m\u001b[0m\u001b[0;34m\u001b[0m\u001b[0;34m\u001b[0m\u001b[0m\n",
      "\u001b[0;31mValueError\u001b[0m: Expected 2D array, got 1D array instead:\narray=[566250000000 633750000000 725000000000 656250000000 658125000000\n 539375000000 730000000000 648750000000 677500000000 713125000000\n 550625000000 566875000000 718750000000 708750000000 662500000000\n 560000000000 590000000000 555625000000 719375000000 513125000000\n 611875000000 636875000000 688125000000 530625000000 650625000000\n 628750000000 557500000000 665000000000 745625000000 694375000000\n 654375000000 639375000000 541250000000 728125000000 606875000000\n 563125000000 695000000000 622500000000 704375000000 510625000000\n 693750000000 653750000000 518750000000 571250000000 595625000000\n 564375000000 685625000000 663125000000 650000000000 572500000000\n 706875000000 575000000000 616250000000 570000000000 636250000000\n 585000000000 672500000000 578750000000 638125000000 687500000000\n 676250000000 583125000000 520625000000 736875000000 601250000000\n 521250000000 635000000000 560625000000 553125000000 538125000000\n 604375000000 746250000000 721875000000 745000000000 645625000000\n 744375000000 567500000000 695625000000 528750000000 736250000000\n 621250000000 718125000000 545625000000 585625000000 738750000000\n 725625000000 646250000000 518125000000 613125000000 680625000000\n 670000000000 531875000000 705625000000 720625000000 516875000000\n 501250000000 637500000000 597500000000 634375000000 735625000000\n 640000000000 586250000000 649375000000 683125000000 671875000000\n 697500000000 692500000000 743125000000 521875000000 627500000000\n 675625000000 631250000000 541875000000 515000000000 667500000000\n 527500000000 715000000000 580625000000 558125000000 569375000000\n 603750000000 673750000000 696875000000 671250000000 525000000000\n 511250000000 727500000000 549375000000 657500000000 658750000000\n 544375000000 508125000000 711875000000 633125000000 741250000000\n 653125000000 642500000000 600000000000 565000000000 600625000000\n 551875000000 618125000000 748750000000 573750000000 705000000000\n 617500000000 630000000000 735000000000 568750000000 593125000000\n 598125000000 595000000000 510000000000 678750000000 546875000000\n 568125000000 675000000000 586875000000 648125000000 700000000000\n 655000000000 693125000000 511875000000 641250000000 691875000000\n 501875000000 743750000000 578125000000 548125000000 615000000000\n 688750000000 737500000000 716875000000 613750000000 723125000000\n 550000000000 661250000000 506875000000 686875000000 553750000000\n 666250000000 522500000000 739375000000 536250000000 525625000000\n 668750000000 531250000000 630625000000 698750000000 698125000000\n 707500000000 576875000000 638750000000 538750000000 689375000000\n 581250000000 616875000000 514375000000 526875000000 500000000000\n 625625000000 712500000000 561250000000 742500000000 611250000000\n 660000000000 558750000000 731250000000 559375000000 720000000000\n 605625000000 543125000000 690625000000 530000000000 629375000000\n 674375000000 641875000000 592500000000 589375000000 612500000000\n 581875000000 723750000000 749375000000 663750000000 702500000000\n 626875000000 552500000000 575625000000 716250000000 729375000000\n 556875000000 551250000000 666875000000 574375000000 681875000000\n 535625000000 700625000000 660625000000 722500000000 526250000000\n 565625000000 730625000000 670625000000 721250000000 523750000000\n 533125000000 717500000000 580000000000 681250000000 517500000000\n 614375000000 601875000000 594375000000 652500000000 626250000000\n 519375000000 520000000000 579375000000 615625000000 733125000000\n 680000000000 726875000000 591875000000 678125000000 731875000000\n 610625000000 561875000000 711250000000 709375000000 623125000000\n 651875000000 571875000000 665625000000 545000000000 708125000000\n 515625000000 603125000000 710625000000 740625000000 608750000000\n 741875000000 524375000000 620625000000 696250000000 555000000000\n 543750000000 554375000000 682500000000 651250000000 673125000000\n 631875000000 505625000000 724375000000 621875000000 656875000000\n 701875000000 620000000000 573125000000 529375000000 607500000000].\nReshape your data either using array.reshape(-1, 1) if your data has a single feature or array.reshape(1, -1) if it contains a single sample."
     ]
    }
   ],
   "source": [
    "%%time\n",
    "from sklearn.linear_model import LinearRegression \n",
    "from sklearn.ensemble import RandomForestRegressor\n",
    "from sklearn.metrics import mean_absolute_error\n",
    "import numpy as np\n",
    "\n",
    "np_arr1 = np.array([[700000000000]])\n",
    "\n",
    "\n",
    "# forest_model = RandomForestRegressor(n_estimators=100,random_state=1)\n",
    "forest_model = LinearRegression()\n",
    "forest_model.fit(train_X, train_y)\n",
    "\n",
    "\n",
    "melb_preds = forest_model.predict(np_arr1)\n",
    "print(melb_preds)\n"
   ]
  },
  {
   "cell_type": "code",
   "execution_count": null,
   "metadata": {},
   "outputs": [],
   "source": []
  },
  {
   "cell_type": "markdown",
   "metadata": {},
   "source": [
    "## Description \n",
    "\n",
    "### **Describe the dataset:**\n",
    "In this Problem Analysis, we have used \"USGS\"science for changing world website as our dataset with the following weblink:\n",
    "[USGS](https://earthquake.usgs.gov/earthquakes/search/)\n",
    "\n",
    "The area under analysis is shown in the following image. ![Area under analysis](earthquake2.png)\n",
    "\n",
    "### **Outline the types of insights you hope to gain from it:**\n",
    "After this statistic analysis we hope to gain the following information:\n",
    "\n",
    "1) How much does people pay attention to earthquake issue in the reddit platform <br/>\n",
    "2) Predict for estimated number of earthquake may happen in 2020 <br/>\n",
    "3) Predict for the largest strong earthquake may happen in 2020 <br/>\n",
    "\n",
    "### **Make hypotheses about what you might find:**\n",
    "\n",
    "We expect earthquake topic attracts more attention specially in the year that many earthquakes happen. \n",
    "We expect people talk more about the topic related to earthquake.\n",
    "In addition, we exect the number of happening earthquake and the power of the earthquakes follow a linear behaviour in a single decade. \n",
    "\n",
    "### **Design 3 questions:**\n",
    "\n",
    "\n",
    "\n",
    "#### Q1) Howmany people did talk about earthquake in the subreddit during the earthquicl time and the correlation with the real earthquake date?\n",
    "\n",
    "#### Q2) Use Machine Learning to  calculate the maximum number of earthquake in 2020?\n",
    "\n",
    "#### Q3) Use Machine Learning to calculate the strongest earthquick may happen in 2020?"
   ]
  },
  {
   "cell_type": "markdown",
   "metadata": {},
   "source": [
    "# Read and Filter the Sampled Data "
   ]
  },
  {
   "cell_type": "markdown",
   "metadata": {},
   "source": [
    "Based on the given data set, we will find the unique user numbers in reddit for each month and then we will make prediction for upcoming month's unique user numbers. (We will use ML models) By doing this reddit development team can prepare themselves for upcoming load."
   ]
  },
  {
   "cell_type": "code",
   "execution_count": 1,
   "metadata": {},
   "outputs": [
    {
     "name": "stdout",
     "output_type": "stream",
     "text": [
      "CPU times: user 5 ms, sys: 5.02 ms, total: 10 ms\n",
      "Wall time: 23.8 s\n"
     ]
    }
   ],
   "source": [
    "%%time\n",
    "spark.catalog.dropGlobalTempView(\"Comments\")\n",
    "df = sqlContext.read.json(\"hdfs://orion11:11001/sampled_reddit_v3/*\")\n",
    "df.createGlobalTempView(\"Comments\")"
   ]
  },
  {
   "cell_type": "code",
   "execution_count": 2,
   "metadata": {},
   "outputs": [
    {
     "name": "stdout",
     "output_type": "stream",
     "text": [
      "2742841\n",
      "CPU times: user 11.7 ms, sys: 2.55 ms, total: 14.2 ms\n",
      "Wall time: 34.7 s\n"
     ]
    }
   ],
   "source": [
    "%%time\n",
    "botExpr = \"[bB][oO][tT]\"\n",
    "\n",
    "filteredComment = (df\n",
    "                   .filter(~(df.body.like(\"[deleted]\") \n",
    "                             | df.body.like('[removed]') \n",
    "                             | df.author.rlike(botExpr) \n",
    "                             | df.author.like(\"[deleted]\")\n",
    "                            )\n",
    "                          )\n",
    "                  )\n",
    "df.unpersist()\n",
    "filteredComment.cache()\n",
    "print(filteredComment.count())"
   ]
  },
  {
   "cell_type": "markdown",
   "metadata": {},
   "source": [
    "### Add month and year column into the dataset"
   ]
  },
  {
   "cell_type": "code",
   "execution_count": 3,
   "metadata": {},
   "outputs": [
    {
     "name": "stdout",
     "output_type": "stream",
     "text": [
      "CPU times: user 13.4 ms, sys: 3.09 ms, total: 16.5 ms\n",
      "Wall time: 1.19 s\n"
     ]
    },
    {
     "data": {
      "text/plain": [
       "2742841"
      ]
     },
     "execution_count": 3,
     "metadata": {},
     "output_type": "execute_result"
    }
   ],
   "source": [
    "%%time\n",
    "from pyspark.sql.functions import year, month, dayofmonth, from_unixtime\n",
    "from pyspark.sql.types import DateType\n",
    "\n",
    "filteredComment = (filteredComment\n",
    "      .withColumn(\"year\", year(from_unixtime(\"created_utc\").cast(DateType())))\n",
    "      .withColumn(\"month\",month(from_unixtime(\"created_utc\").cast(DateType()))))\n",
    "filteredComment.count()"
   ]
  },
  {
   "cell_type": "markdown",
   "metadata": {},
   "source": [
    "### Q1) Howmany people did talk about earthquake in the subreddit during the earthquicl time and the correlation with the real earthquake date?"
   ]
  },
  {
   "cell_type": "markdown",
   "metadata": {},
   "source": [
    "Here we have targetted the US regien as shown above and based on the dataset collected from 2006 up to 2017 the number of earthquakes are calculated in the dataset.\n",
    "In addition, we have used the reddit data set to see the number of people who commented about earthquakes."
   ]
  },
  {
   "cell_type": "code",
   "execution_count": 2,
   "metadata": {},
   "outputs": [
    {
     "name": "stdout",
     "output_type": "stream",
     "text": [
      "CPU times: user 3.73 ms, sys: 77 µs, total: 3.81 ms\n",
      "Wall time: 3.37 s\n"
     ]
    }
   ],
   "source": [
    "%%time\n",
    "originDF = sqlContext.read.json(\"hdfs://orion11:11001/sampled_reddit_v3/*\")"
   ]
  },
  {
   "cell_type": "code",
   "execution_count": 8,
   "metadata": {},
   "outputs": [
    {
     "name": "stdout",
     "output_type": "stream",
     "text": [
      "+----+--------------------+--------+\n",
      "|year|           subreddit|count(1)|\n",
      "+----+--------------------+--------+\n",
      "|2014|          skyrimmods|     136|\n",
      "|2014|                deaf|       8|\n",
      "|2014|               dubai|      30|\n",
      "|2014|                lost|      20|\n",
      "|2014|        raspberry_pi|      59|\n",
      "|2014|terriblefacebookm...|      16|\n",
      "|2014|       ClickerHeroes|      89|\n",
      "|2014|            GameSale|      52|\n",
      "|2014|RandomActsOfChris...|      14|\n",
      "|2014|         RateMyMayor|      90|\n",
      "|2014|              Flyers|      94|\n",
      "|2014|          EmeraldPS2|      19|\n",
      "|2014|     douglovesmovies|       5|\n",
      "|2015|               trees|    2034|\n",
      "|2015|      TumblrInAction|    1815|\n",
      "|2014|          glassheads|      30|\n",
      "|2015|           firewater|       6|\n",
      "|2015|            formula1|     842|\n",
      "|2014|              ukguns|       5|\n",
      "|2015|              Nissan|      10|\n",
      "+----+--------------------+--------+\n",
      "only showing top 20 rows\n",
      "\n",
      "+----+--------------+\n",
      "|year|NumofSubReddit|\n",
      "+----+--------------+\n",
      "+----+--------------+\n",
      "\n"
     ]
    }
   ],
   "source": [
    "# SAMPLED Data\n",
    "import pyspark.sql.functions as func\n",
    "\n",
    "#df = sqlContext.read.json(\"hdfs://orion11:41001/sampled_reddit/*\")\n",
    "#df.createOrReplaceTempView(\"comments\")\n",
    "# df.saveAsTable(\"Unique subreddit comments\")\n",
    "\n",
    "# subredditDF = filteredComment.select(\"subreddit\").distinct()\n",
    "\n",
    "subredditDf = filteredComment.groupBy('year','subreddit').agg(func.count(func.lit(1)))\n",
    "subredditDf.show()\n",
    "subredditDf = (subredditDf\n",
    "               .filter(subredditDf.subreddit.rlike('earthquake'))\n",
    "               .groupBy('year')\n",
    "               .agg(func.count(func.lit(1)).alias('NumofSubReddit')))\n",
    "\n",
    "subredditDf.show()\n",
    "\n",
    "\n",
    "# subredditDF = SubrredditDF.filterBy('subredd')(subreddit\n",
    "#                         .groupBy('year')\n",
    "#                         .agg(func.count('Earthquake').alias('numOfComments')))\n",
    "\n",
    "\n",
    "# sqlDF=spark.sql(\"SELECT count(distinct subreddit) AS Unique_Subreddit from comments\")\n",
    "# sqlDF.show()\n",
    "\n",
    "\n",
    "\n",
    "# df = sqlContext.read.json(\"hdfs://orion11:41001/reddit/*\")\n",
    "# df.createOrReplaceTempView(\"Comments\")\n",
    "\n",
    "# Read from 2005 to 2017\n",
    "\n",
    "# sqlDF=spark.sql(\"SELECT subredit,count(*) AS CommentCount from Comments and subreddit='Earthquake' and (created_utc>=1104552009000 and created_utc<=1328054399)\")\n",
    "\n",
    "# sqlDF.show()\n",
    "# sqlDF.show(df.count())\n"
   ]
  },
  {
   "cell_type": "markdown",
   "metadata": {},
   "source": [
    " The following table counts the number of comments in the subreddit between the years 2006 up to 2017. The actual number of earthquakes are also calculated based on Science for changing word dataset."
   ]
  },
  {
   "cell_type": "code",
   "execution_count": 10,
   "metadata": {},
   "outputs": [
    {
     "name": "stdout",
     "output_type": "stream",
     "text": [
      "+----+--------+\n",
      "|year|count(1)|\n",
      "+----+--------+\n",
      "|2017|      19|\n",
      "|2016|      95|\n",
      "|2015|      84|\n",
      "|2014|      59|\n",
      "|2013|      39|\n",
      "|2012|      40|\n",
      "|2011|      21|\n",
      "|2010|       8|\n",
      "|2009|       1|\n",
      "|2008|       2|\n",
      "+----+--------+\n",
      "\n"
     ]
    }
   ],
   "source": [
    "earthquakeComment = filteredComment.filter(filteredComment.body.rlike('earthquake'))\n",
    "countDF = earthquakeComment.groupBy('year').agg(func.count(func.lit(1))).sort(func.desc('year'))\n",
    "countDF.show()"
   ]
  },
  {
   "cell_type": "code",
   "execution_count": 11,
   "metadata": {},
   "outputs": [],
   "source": [
    "countDF.coalesce(1).write.format('csv').save('hdfs://orion11:41001/A7')"
   ]
  },
  {
   "cell_type": "code",
   "execution_count": 15,
   "metadata": {},
   "outputs": [
    {
     "data": {
      "text/plain": [
       "3228"
      ]
     },
     "execution_count": 15,
     "metadata": {},
     "output_type": "execute_result"
    }
   ],
   "source": [
    "from pyspark.sql import SQLContext\n",
    "from pyspark.sql.types import *\n",
    "sqlContext = SQLContext(sc)\n",
    "df = sqlContext.read.format('com.databricks.spark.csv').options(header='true').load('hdfs://orion11:41001/Earthquake/2017.csv')\n",
    "df.count()"
   ]
  },
  {
   "cell_type": "markdown",
   "metadata": {},
   "source": [
    "#### Result: \n",
    "\n",
    "Although the number of comments were increased year by year except for 2017, however there is no strong correlation between subreddit comments and the number of actual earthquakes registered in the dataset. There may be the possibility that people used different platform rather than Reddit to talk about earthquake.\n"
   ]
  },
  {
   "cell_type": "markdown",
   "metadata": {},
   "source": [
    "![Q1 - Analysis](earthquake1.png)"
   ]
  },
  {
   "cell_type": "markdown",
   "metadata": {},
   "source": [
    "### Q2) Use Machine Learning to  calculate the maximum number of earthquake in 2020?\n",
    "\n",
    "We have used the same dataset taken from the “science for changing world website” to train the system for predicting the number of earthquakes in 2020. In this model the linear regression model was considered. The data for 2006 till 2017 is considered to train the data.\n",
    " \n"
   ]
  },
  {
   "cell_type": "code",
   "execution_count": 26,
   "metadata": {},
   "outputs": [
    {
     "name": "stdout",
     "output_type": "stream",
     "text": [
      "CPU times: user 3.87 ms, sys: 970 µs, total: 4.84 ms\n",
      "Wall time: 8.24 ms\n"
     ]
    }
   ],
   "source": [
    "%%time\n",
    "import pandas as pd\n",
    "    \n",
    "# Load data\n",
    "earthquake_file_path = '/home4/rteymourzadeh/Project3BigData/P3-p3-hiep_alper_team/A7_Final_Analysis/ML.csv'\n",
    "earthquake_data = pd.read_csv(earthquake_file_path) \n",
    "earthquake_data.columns\n",
    "\n",
    "# Choose target and features\n",
    "y = earthquake_data.Earthquake\n",
    "earthquake_features =['Year']\n",
    "\n",
    "X = earthquake_data[earthquake_features]\n",
    "\n",
    "from sklearn.model_selection import train_test_split\n",
    "\n",
    "# split data into training and validation data, for both features and target\n",
    "# The split is based on a random number generator. Supplying a numeric value to\n",
    "# the random_state argument guarantees we get the same split every time we\n",
    "# run this script.\n",
    "train_X, val_X, train_y, val_y = train_test_split(X, y,random_state = 0)"
   ]
  },
  {
   "cell_type": "code",
   "execution_count": 27,
   "metadata": {},
   "outputs": [
    {
     "name": "stdout",
     "output_type": "stream",
     "text": [
      "[[2012]\n",
      " [2017]\n",
      " [2010]\n",
      " [2018]\n",
      " [2019]\n",
      " [2020]]\n",
      "[2723.9537037  4098.16666667 2174.26851852 4373.00925926 4647.85185185\n",
      " 4922.69444444]\n",
      "CPU times: user 2.76 ms, sys: 0 ns, total: 2.76 ms\n",
      "Wall time: 1.74 ms\n"
     ]
    }
   ],
   "source": [
    "%%time\n",
    "#ML.csv (Year,earthquake)\n",
    "import numpy as np\n",
    "np_arr1 = np.array([[2018],[2019],[2020]])\n",
    "\n",
    "\n",
    "from sklearn.linear_model import LinearRegression\n",
    "#from sklearn.ensemble import RandomForestRegressor\n",
    "from sklearn.metrics import mean_absolute_error\n",
    "\n",
    "#forest_model = RandomForestRegressor(n_estimators=100,random_state=1)\n",
    "forest_model = LinearRegression()\n",
    "\n",
    "forest_model.fit(train_X, train_y)\n",
    "#forest_model.fit(X,y)\n",
    "\n",
    "val_X=np.append(val_X,np_arr1,axis=0)  \n",
    "print(val_X)\n",
    "\n",
    "\n",
    "#val_X=val_X.insert([4],[2017])\n",
    "melb_preds = forest_model.predict(val_X)\n",
    "print(melb_preds)\n",
    "#print('Mean_absolute_error:',mean_absolute_error(val_y, melb_preds))\n",
    "#print(val_X.dtypes)"
   ]
  },
  {
   "cell_type": "markdown",
   "metadata": {},
   "source": [
    "### Result and Discussion\n",
    "\n",
    "We tried to calculate the number of earthquakes that may happened in 2018, 2019 and 2020. Those values are: \n",
    "\n",
    "Colons can be used to align columns.\n",
    "\n",
    "#### Trained Data:\n",
    "\n",
    "**No** | **Year** | **Earthquake**\n",
    "--- | --- | ---\n",
    "1 | 2018 | 4373\n",
    "2 | 2019 | 4647\n",
    "3 | 2020 | 4922\n",
    "\n",
    "Since we have a real data from the data set for 2018 and 2019 we can see the accuracy of the model: \n",
    "\n",
    "#### Real Data:\n",
    "\n",
    "**No** | **Year** | **Earthquake**\n",
    "--- | --- | ---\n",
    "1 | 2018 | 2135\n",
    "2 | 2019 | 4152\n",
    "3 | 2020 | ?\n",
    "\n",
    "\n",
    "\n",
    "![Q2 - Analysis](earthquake3.png)\n"
   ]
  },
  {
   "cell_type": "markdown",
   "metadata": {},
   "source": [
    "The trained result is shown in the above graph. It shows 4373 and 4647 earthquakes for the 2018 and 2019 respectively.  Although, the trend is increasing for the number of the earthquakes that looks correct prediction, yet still not accurate for 2018. The model can improve using more data to train the model or we can use classifier model instead of regression model. "
   ]
  },
  {
   "cell_type": "markdown",
   "metadata": {},
   "source": [
    "### Q3) Use Machine Learning to calculate the strongest earthquick may happen in 2020?\n",
    "\n",
    "An earthquake radiates energy in the form of different kinds of seismic waves, whose characteristics reflect the nature of both the rupture and the earth's crust the waves travel through.Determination of an earthquake's magnitude generally involves identifying specific kinds of these waves on a seismogram, and then measuring one or more characteristics of a wave, such as its timing, orientation, amplitude, frequency, or duration. \n",
    "Additional adjustments are made for distance, kind of crust, and the characteristics of the seismograph that recorded the seismogram. Sample of magnitude scale is shown in the following figure.\n",
    "In this question, we have used the same dataset taken from the “science for changing world website” to train the system for predicting the earthquakes magnitude in 2020. In this model the linear regression model was considered. The data for 2006 till 2017 is considered to train the data.\n"
   ]
  },
  {
   "cell_type": "code",
   "execution_count": 1,
   "metadata": {},
   "outputs": [
    {
     "name": "stdout",
     "output_type": "stream",
     "text": [
      "CPU times: user 754 ms, sys: 111 ms, total: 865 ms\n",
      "Wall time: 6.82 s\n"
     ]
    }
   ],
   "source": [
    "%%time\n",
    "import pandas as pd\n",
    "    \n",
    "# Load data\n",
    "earthquake_file_path = '/home4/rteymourzadeh/Project3BigData/P3-p3-hiep_alper_team/A7_Final_Analysis/ML2.csv'\n",
    "earthquake_data = pd.read_csv(earthquake_file_path) \n",
    "earthquake_data.columns\n",
    "\n",
    "# Choose target and features\n",
    "y = earthquake_data.Earthquake\n",
    "earthquake_features =['Year']\n",
    "\n",
    "X = earthquake_data[earthquake_features]\n",
    "\n",
    "from sklearn.model_selection import train_test_split\n",
    "\n",
    "# run this script.\n",
    "train_X, val_X, train_y, val_y = train_test_split(X, y,random_state = 0)"
   ]
  },
  {
   "cell_type": "code",
   "execution_count": 2,
   "metadata": {},
   "outputs": [
    {
     "name": "stdout",
     "output_type": "stream",
     "text": [
      "[[2012]\n",
      " [2017]\n",
      " [2010]\n",
      " [2018]\n",
      " [2019]\n",
      " [2020]]\n",
      "[5.87833333 5.57       6.00166667 5.50833333 5.44666667 5.385     ]\n",
      "CPU times: user 19.6 ms, sys: 7.89 ms, total: 27.5 ms\n",
      "Wall time: 518 ms\n"
     ]
    }
   ],
   "source": [
    "%%time\n",
    "#ML2.csv (Year,earthquake)\n",
    "import numpy as np\n",
    "np_arr1 = np.array([[2018],[2019],[2020]])\n",
    "\n",
    "\n",
    "from sklearn.linear_model import LinearRegression\n",
    "from sklearn.metrics import mean_absolute_error\n",
    "\n",
    "forest_model = LinearRegression()\n",
    "\n",
    "forest_model.fit(train_X, train_y)\n",
    "\n",
    "val_X=np.append(val_X,np_arr1,axis=0)  \n",
    "print(val_X)\n",
    "\n",
    "melb_preds = forest_model.predict(val_X)\n",
    "print(melb_preds)\n"
   ]
  },
  {
   "cell_type": "markdown",
   "metadata": {},
   "source": [
    "### Result and Discussion\n",
    "\n",
    "We tried to calculate the number of earthquakes that may happened in 2018, 2019 and 2020. Those values are: \n",
    "\n",
    "Colons can be used to align columns.\n",
    "\n",
    "#### Trained Data:\n",
    "\n",
    "**No** | **Year** | **Earthquake**\n",
    "--- | --- | ---\n",
    "1 | 2018 | 5.5\n",
    "2 | 2019 | 5.4\n",
    "3 | 2020 | 5.3\n",
    "\n",
    "Since we have a real data from the data set for 2018 and 2019 we can see the accuracy of the model: \n",
    "\n",
    "#### Real Data:\n",
    "\n",
    "**No** | **Year** | **Earthquake**\n",
    "--- | --- | ---\n",
    "1 | 2018 | 5.29\n",
    "2 | 2019 | 7.1\n",
    "3 | 2020 | ?\n",
    "\n",
    "\n",
    "\n",
    "![Q3 - Analysis](earthquake5.png)"
   ]
  },
  {
   "cell_type": "markdown",
   "metadata": {},
   "source": [
    "The trained result is shown in the above graph. It shows 5.5 and 5.4 and 5.3 magnitude earthquakes for the respective year of 2018 , 2019 and 2020. Although, the trend shows decreasing value for the magnitude of the earthquakes that looks correct prediction, yet still not accurate for 2019. The model can improve using more data to train the model."
   ]
  },
  {
   "cell_type": "markdown",
   "metadata": {},
   "source": [
    "### Reference\n",
    "\n",
    "[1] Dataset: [USGS](https://earthquake.usgs.gov/earthquakes/search/) <br/>\n",
    "[2] Earthquake Wiki: [Earthquake](https://en.wikipedia.org/wiki/Seismic_magnitude_scales)\n"
   ]
  },
  {
   "cell_type": "code",
   "execution_count": null,
   "metadata": {},
   "outputs": [],
   "source": []
  }
 ],
 "metadata": {
  "kernelspec": {
   "display_name": "Python 3",
   "language": "python",
   "name": "python3"
  },
  "language_info": {
   "codemirror_mode": {
    "name": "ipython",
    "version": 3
   },
   "file_extension": ".py",
   "mimetype": "text/x-python",
   "name": "python",
   "nbconvert_exporter": "python",
   "pygments_lexer": "ipython3",
   "version": "3.7.3"
  }
 },
 "nbformat": 4,
 "nbformat_minor": 2
}
