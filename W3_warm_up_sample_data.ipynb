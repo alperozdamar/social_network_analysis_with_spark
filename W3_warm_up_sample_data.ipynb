{
 "cells": [
  {
   "cell_type": "code",
   "execution_count": 51,
   "metadata": {},
   "outputs": [
    {
     "name": "stdout",
     "output_type": "stream",
     "text": [
      "Total comments: 417184\n",
      "Filtered comments in 11 March: 399\n",
      "5% sample:14\n",
      "+---+-----+----------+\n",
      "|day|month|    author|\n",
      "+---+-----+----------+\n",
      "| 11|    3| taliswolf|\n",
      "| 11|    3|      root|\n",
      "| 11|    3|      root|\n",
      "| 11|    3|  jonbliss|\n",
      "| 11|    3| tiagoflip|\n",
      "| 11|    3|  RSquared|\n",
      "| 11|    3|      ieka|\n",
      "| 11|    3| [deleted]|\n",
      "| 11|    3| jacktasia|\n",
      "| 11|    3| [deleted]|\n",
      "| 11|    3|       abs|\n",
      "| 11|    3| [deleted]|\n",
      "| 11|    3|    maxdof|\n",
      "| 11|    3|mikepurvis|\n",
      "+---+-----+----------+\n",
      "\n"
     ]
    }
   ],
   "source": [
    "from pyspark.sql.types import TimestampType\n",
    "from pyspark.sql.functions import year, month, dayofmonth\n",
    "\n",
    "originDF = sqlContext.read.json(\"hdfs://orion11:11001/reddit/2006/*\")\n",
    "# Displays the content of the DataFrame to stdout\n",
    "df = originDF.select(originDF.created_utc, originDF.author)\n",
    "df = df.withColumn(\"created_utc\", df[\"created_utc\"].cast(\"timestamp\"))\n",
    "df = df.select(\n",
    "    dayofmonth(df.created_utc).alias('day'), \n",
    "    month(df.created_utc).alias('month'), \n",
    "    df.author\n",
    ")\n",
    "# Filter using day month\n",
    "filteredDF = df.filter((df.month == 3) & (df.day==11))\n",
    "sampleDF = filteredDF.sample(True, 0.05)\n",
    "print(\"Total comments: \" + str(df.count()))\n",
    "print(\"Filtered comments in 11 March: \" + str(filteredDF.count()))\n",
    "print(\"5% sample:\" + str(sampleDF.count()))\n",
    "sampleDF.show()\n"
   ]
  },
  {
   "cell_type": "code",
   "execution_count": null,
   "metadata": {},
   "outputs": [],
   "source": []
  }
 ],
 "metadata": {
  "kernelspec": {
   "display_name": "Python 3",
   "language": "python",
   "name": "python3"
  },
  "language_info": {
   "codemirror_mode": {
    "name": "ipython",
    "version": 3
   },
   "file_extension": ".py",
   "mimetype": "text/x-python",
   "name": "python",
   "nbconvert_exporter": "python",
   "pygments_lexer": "ipython3",
   "version": "3.7.3"
  }
 },
 "nbformat": 4,
 "nbformat_minor": 2
}
