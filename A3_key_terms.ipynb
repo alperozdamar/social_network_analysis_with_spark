{
 "cells": [
  {
   "cell_type": "code",
   "execution_count": 1,
   "metadata": {},
   "outputs": [],
   "source": [
    "import pyspark.sql.functions as func\n",
    "from pyspark.sql.types import StringType, DoubleType\n",
    "import string\n",
    "import re\n",
    "import math"
   ]
  },
  {
   "cell_type": "markdown",
   "metadata": {},
   "source": [
    "### Get sample data"
   ]
  },
  {
   "cell_type": "code",
   "execution_count": 16,
   "metadata": {},
   "outputs": [
    {
     "name": "stdout",
     "output_type": "stream",
     "text": [
      "309199315\n",
      "CPU times: user 60.5 ms, sys: 37.4 ms, total: 97.9 ms\n",
      "Wall time: 9min 8s\n"
     ]
    }
   ],
   "source": [
    "%%time\n",
    "sampleDF = sqlContext.read.json(\"hdfs://orion11:11001/sampled_reddit/*\")\n",
    "sampleDF.cache()\n",
    "print(sampleDF.count())"
   ]
  },
  {
   "cell_type": "code",
   "execution_count": null,
   "metadata": {},
   "outputs": [],
   "source": [
    "sampleDFv2 = sampleDF.sample(False, 0.1)\n",
    "sampleDFv2.write.format('json').save('hdfs://orion11:11001/sampled_reddit_v2')"
   ]
  },
  {
   "cell_type": "code",
   "execution_count": 2,
   "metadata": {},
   "outputs": [
    {
     "name": "stdout",
     "output_type": "stream",
     "text": [
      "30907764\n",
      "CPU times: user 16.8 ms, sys: 7.73 ms, total: 24.5 ms\n",
      "Wall time: 1min 18s\n"
     ]
    }
   ],
   "source": [
    "%%time\n",
    "sampleDFv2 = spark.read.format('json').load('hdfs://orion11:11001/sampled_reddit_v2/*')\n",
    "sampleDFv2.cache()\n",
    "print(sampleDFv2.count())"
   ]
  },
  {
   "cell_type": "markdown",
   "metadata": {},
   "source": [
    "### Filter all comment generate by bot/ comment that is delete"
   ]
  },
  {
   "cell_type": "code",
   "execution_count": 17,
   "metadata": {},
   "outputs": [
    {
     "name": "stdout",
     "output_type": "stream",
     "text": [
      "286117107\n",
      "CPU times: user 37 ms, sys: 26.5 ms, total: 63.5 ms\n",
      "Wall time: 5min 45s\n"
     ]
    }
   ],
   "source": [
    "%%time\n",
    "botExpr = \"[bB][oO][tT]\"\n",
    "\n",
    "filteredComment = (sampleDF\n",
    "                   .filter(~(sampleDF.body.like(\"[deleted]\") \n",
    "                             | sampleDF.body.like('[removed]') \n",
    "                             | sampleDF.author.rlike(botExpr)\n",
    "                            )\n",
    "                          )\n",
    "                  )\n",
    "sampleDF.unpersist()\n",
    "filteredComment.cache()\n",
    "print(filteredComment.count())"
   ]
  },
  {
   "cell_type": "markdown",
   "metadata": {},
   "source": [
    "### Calculate number of subreddit"
   ]
  },
  {
   "cell_type": "code",
   "execution_count": 18,
   "metadata": {},
   "outputs": [],
   "source": [
    "subCount = filteredComment.select(\"subreddit\").distinct().count()"
   ]
  },
  {
   "cell_type": "markdown",
   "metadata": {},
   "source": [
    "### Generate TF (Term Frequency) for each subreddit"
   ]
  },
  {
   "cell_type": "markdown",
   "metadata": {},
   "source": [
    "Function to change all special characters to white space"
   ]
  },
  {
   "cell_type": "code",
   "execution_count": 19,
   "metadata": {},
   "outputs": [
    {
     "name": "stdout",
     "output_type": "stream",
     "text": [
      "dan aykroyd calls\n"
     ]
    }
   ],
   "source": [
    "\n",
    "def preProcessBody(text):\n",
    "    # lowercase\n",
    "    text=text.lower()\n",
    "    \n",
    "    # remove special characters and digits\n",
    "#     text=re.sub(\"(\\\\d|[^\\\\w|\\\\s]|(\\_))+\",\"\",text)\n",
    "#     text=re.sub(\"(\\\\s)+\",\" \",text)\n",
    "    text=re.sub(\"[^A-Za-z]+\",\" \",text)\n",
    "    return text.strip()\n",
    "\n",
    "print(preProcessBody(\"dan_aykroyd_calls\"))\n",
    "\n",
    "preProcessBodyUdf = func.udf(preProcessBody, StringType())"
   ]
  },
  {
   "cell_type": "markdown",
   "metadata": {},
   "source": [
    "Split body to get the list of word in each subreddit"
   ]
  },
  {
   "cell_type": "code",
   "execution_count": 20,
   "metadata": {},
   "outputs": [
    {
     "name": "stdout",
     "output_type": "stream",
     "text": [
      "+---------+--------+\n",
      "|subreddit|    word|\n",
      "+---------+--------+\n",
      "|AskReddit|       i|\n",
      "|AskReddit|    read|\n",
      "|AskReddit|     the|\n",
      "|AskReddit|   title|\n",
      "|AskReddit|     and|\n",
      "|AskReddit| thought|\n",
      "|AskReddit|      of|\n",
      "|AskReddit|    that|\n",
      "|AskReddit|cheating|\n",
      "|AskReddit|   bitch|\n",
      "|AskReddit|   clown|\n",
      "|AskReddit|    from|\n",
      "|AskReddit|     the|\n",
      "|AskReddit|glassjaw|\n",
      "|AskReddit|   video|\n",
      "|AskReddit| because|\n",
      "|AskReddit|     you|\n",
      "|AskReddit|      re|\n",
      "|AskReddit|   about|\n",
      "|AskReddit|      to|\n",
      "+---------+--------+\n",
      "only showing top 20 rows\n",
      "\n",
      "CPU times: user 3.55 ms, sys: 3.52 ms, total: 7.07 ms\n",
      "Wall time: 6.24 s\n"
     ]
    }
   ],
   "source": [
    "%%time\n",
    "commentsTokensDF = (filteredComment\n",
    "                    .select(\n",
    "                        \"subreddit\",\n",
    "                        func.explode(func.split(preProcessBodyUdf(filteredComment.body), \"\\s+\")).alias(\"word\")\n",
    "                    )\n",
    "                   )\n",
    "filteredComment.unpersist()\n",
    "commentsTokensDF.cache()\n",
    "commentsTokensDF.show()"
   ]
  },
  {
   "cell_type": "code",
   "execution_count": 21,
   "metadata": {},
   "outputs": [
    {
     "name": "stdout",
     "output_type": "stream",
     "text": [
      "+-----------+--------+------+\n",
      "|  subreddit|    word|    tf|\n",
      "+-----------+--------+------+\n",
      "|programming|     and|420115|\n",
      "|   politics|  theory| 21543|\n",
      "| technology|    time| 81105|\n",
      "|  worldnews| useless|  5748|\n",
      "|     canada|   there| 96106|\n",
      "|  AskReddit|    flaw|  5023|\n",
      "|      scifi|   first|  8026|\n",
      "|     videos|      be|503413|\n",
      "|   politics| biggest| 21209|\n",
      "|environment|possible|   985|\n",
      "|   politics|slightly| 10076|\n",
      "|   politics| captain|  1559|\n",
      "|   politics|    shit|147387|\n",
      "|     videos|   there|273701|\n",
      "|     videos|    sure| 78840|\n",
      "|        WTF|     pre|  3063|\n",
      "|  AskReddit|   strip| 18294|\n",
      "|      Music|  before| 47645|\n",
      "|   business|     the|193401|\n",
      "|   business|    that| 71784|\n",
      "+-----------+--------+------+\n",
      "only showing top 20 rows\n",
      "\n",
      "CPU times: user 156 ms, sys: 58.8 ms, total: 215 ms\n",
      "Wall time: 17min 37s\n"
     ]
    }
   ],
   "source": [
    "%%time\n",
    "wordTf = (commentsTokensDF.groupBy(\"subreddit\",\"word\")\n",
    "        .agg(func.count(\"subreddit\").alias(\"tf\")))\n",
    "wordTf.cache()\n",
    "wordTf.show()"
   ]
  },
  {
   "cell_type": "markdown",
   "metadata": {},
   "source": [
    "### Calculate DF(Document frequence)"
   ]
  },
  {
   "cell_type": "code",
   "execution_count": 22,
   "metadata": {},
   "outputs": [
    {
     "name": "stdout",
     "output_type": "stream",
     "text": [
      "+------------------+-----+\n",
      "|              word|   df|\n",
      "+------------------+-----+\n",
      "|             still|55613|\n",
      "|foreveralonedating|   47|\n",
      "|           barrier| 6319|\n",
      "|              some|71724|\n",
      "|             anime| 7112|\n",
      "|             those|48150|\n",
      "|      accumulation| 1946|\n",
      "|         viewpoint| 4384|\n",
      "|            harder|15883|\n",
      "|       piljrhjuvew|    2|\n",
      "|               art|22895|\n",
      "|             spoil| 4860|\n",
      "|              hope|39658|\n",
      "|          ligament|  787|\n",
      "|         imitation| 2762|\n",
      "|       battlefront| 1281|\n",
      "|           persist| 3143|\n",
      "|           flashed| 2517|\n",
      "|            whaaat| 1412|\n",
      "|          incoming| 6075|\n",
      "+------------------+-----+\n",
      "only showing top 20 rows\n",
      "\n",
      "CPU times: user 295 ms, sys: 174 ms, total: 468 ms\n",
      "Wall time: 13min 36s\n"
     ]
    }
   ],
   "source": [
    "%%time\n",
    "wordDf = (commentsTokensDF.groupBy(\"word\")\n",
    "        .agg(func.countDistinct(\"subreddit\").alias(\"df\")))\n",
    "commentsTokensDF.unpersist()\n",
    "wordDf.cache()\n",
    "wordDf.show()"
   ]
  },
  {
   "cell_type": "markdown",
   "metadata": {},
   "source": [
    "### Calculate IDF(Inverse Document Frequency)\n",
    "Base on DF, we will calculate IDF\n",
    "IDF(t,D) = log[ (|D| + 1) / (DF(t,D) + 1) ]"
   ]
  },
  {
   "cell_type": "code",
   "execution_count": 23,
   "metadata": {},
   "outputs": [],
   "source": [
    "def calcIdf(docCount, df):\n",
    "    return math.log((float(docCount) + 1) / (float(df) + 1))\n",
    "#     return math.log((float(docCount) + 1))\n",
    "\n",
    "calcIdfUdf = func.udf(calcIdf, DoubleType())"
   ]
  },
  {
   "cell_type": "code",
   "execution_count": 24,
   "metadata": {},
   "outputs": [
    {
     "name": "stdout",
     "output_type": "stream",
     "text": [
      "+-------------+-----+------------------+\n",
      "|         word|   df|               idf|\n",
      "+-------------+-----+------------------+\n",
      "|    connected|11822| 2.985299969173641|\n",
      "|  transmitted| 2131|4.6982862497510185|\n",
      "|         some|71724|1.1825073941871884|\n",
      "|       harder|15883| 2.690034442785612|\n",
      "|     whaaaaat| 1071| 5.385820693406007|\n",
      "|          few|45680|1.6336642995279118|\n",
      "|         hope|39658|1.7750288476025882|\n",
      "|     debunked| 2477| 4.547894972847667|\n",
      "|    recognize|11571|3.0067583689407282|\n",
      "|gratification| 2457| 4.555998744910774|\n",
      "|          art|22895|2.3243845332405217|\n",
      "|socialization| 1374| 5.136893024936082|\n",
      "|        monte| 1957| 4.783423211946299|\n",
      "|        those|48150|  1.58100484959416|\n",
      "|    indicator| 5867|3.6858328957738817|\n",
      "|   fermenting|  597| 5.969511281086122|\n",
      "|      rfcpool|    1|11.669954854476808|\n",
      "|        still|55613|1.4369117879328663|\n",
      "|   kingseeker|   25| 9.105005497015272|\n",
      "|     priority| 9363|3.2184742064259524|\n",
      "+-------------+-----+------------------+\n",
      "only showing top 20 rows\n",
      "\n",
      "CPU times: user 380 ms, sys: 223 ms, total: 603 ms\n",
      "Wall time: 13min 39s\n"
     ]
    }
   ],
   "source": [
    "%%time\n",
    "wordIdf = (wordDf\n",
    "           .withColumn(\"idf\", calcIdfUdf(func.lit(subCount), wordDf.df)))\n",
    "wordDf.unpersist()\n",
    "wordIdf.cache()\n",
    "wordIdf.show()"
   ]
  },
  {
   "cell_type": "markdown",
   "metadata": {},
   "source": [
    "### Calculate TF-IDF for selected subreddt\n",
    "Calculate TF-IDF by getting the TF of selected subreddit, then multiply it with calculated IDF"
   ]
  },
  {
   "cell_type": "code",
   "execution_count": 25,
   "metadata": {},
   "outputs": [
    {
     "name": "stdout",
     "output_type": "stream",
     "text": [
      "+----------+----------+-----+\n",
      "| subreddit|      word|   tf|\n",
      "+----------+----------+-----+\n",
      "|fireemblem|  carrying|  161|\n",
      "|fireemblem|    curves|   21|\n",
      "|fireemblem|    fockin|    3|\n",
      "|fireemblem|highlander|    2|\n",
      "|fireemblem|       ing|   85|\n",
      "|fireemblem| localised|   36|\n",
      "|fireemblem|       one|22464|\n",
      "|fireemblem|       saw| 1163|\n",
      "|fireemblem|     stage|  210|\n",
      "|fireemblem|    aether|  412|\n",
      "|fireemblem|appearance|  294|\n",
      "|fireemblem|   choices|  520|\n",
      "|fireemblem|         g|  640|\n",
      "|fireemblem|      grit|   13|\n",
      "|fireemblem|   harsher|    8|\n",
      "|fireemblem|  included|  296|\n",
      "|fireemblem|   partner|  414|\n",
      "|fireemblem|   closely|   66|\n",
      "|fireemblem|     terms|  784|\n",
      "|fireemblem|      tits|   91|\n",
      "+----------+----------+-----+\n",
      "only showing top 20 rows\n",
      "\n",
      "CPU times: user 2.28 ms, sys: 472 µs, total: 2.76 ms\n",
      "Wall time: 138 ms\n"
     ]
    }
   ],
   "source": [
    "%%time\n",
    "selectSub = \"fireemblem\"\n",
    "selectSubTf = wordTf.filter(wordTf.subreddit.like(selectSub))\n",
    "selectSubTf.show()"
   ]
  },
  {
   "cell_type": "code",
   "execution_count": 27,
   "metadata": {},
   "outputs": [
    {
     "name": "stdout",
     "output_type": "stream",
     "text": [
      "CPU times: user 1.73 ms, sys: 230 µs, total: 1.96 ms\n",
      "Wall time: 14.9 ms\n"
     ]
    }
   ],
   "source": [
    "%%time\n",
    "selectedSubTfIdf = (selectSubTf\n",
    "      .join(wordIdf, [\"word\"],how='left')\n",
    "      .withColumn(\"tf_idf\", wordTf.tf * wordIdf.idf))"
   ]
  },
  {
   "cell_type": "code",
   "execution_count": 30,
   "metadata": {},
   "outputs": [
    {
     "name": "stdout",
     "output_type": "stream",
     "text": [
      "+----------+----------+------+------+-------------------+------------------+\n",
      "|      word| subreddit|    tf|    df|                idf|            tf_idf|\n",
      "+----------+----------+------+------+-------------------+------------------+\n",
      "|        fe|fireemblem| 22885|  6198| 3.6309587673348345| 83094.49139045768|\n",
      "|       the|fireemblem|221970|164283|0.35375011858968597| 78521.91382335259|\n",
      "|         i|fireemblem|184815|154085| 0.4178358679530063| 77222.33593573487|\n",
      "|       and|fireemblem|133288|145529|0.47496450512938215|63307.068959685086|\n",
      "|        to|fireemblem|143585|156128|0.40466416744067746|58103.704481969675|\n",
      "|      that|fireemblem| 86926|124927| 0.6276091847040444| 54555.55598958376|\n",
      "|        it|fireemblem| 97826|134417| 0.5543924083617696| 54233.99174039847|\n",
      "|         a|fireemblem|136153|158611|0.38888578767322224| 52947.96664907223|\n",
      "|       you|fireemblem| 86694|129987| 0.5879046175519596| 50967.80291404958|\n",
      "|         s|fireemblem| 86509|129846| 0.5889899217938064|50952.929144460395|\n",
      "|        of|fireemblem| 97732|141640| 0.5020510686833375| 49066.45504455994|\n",
      "|         t|fireemblem| 63838|110465| 0.7506389747514923| 47919.29087018577|\n",
      "|        is|fireemblem| 90740|140203| 0.5122482511906483| 46481.40631303943|\n",
      "|      game|fireemblem| 24267| 38758| 1.7979837691584735|43631.672126168676|\n",
      "|       but|fireemblem| 51618|102572| 0.8247720158447994| 42573.08191387686|\n",
      "|        in|fireemblem| 77543|135592| 0.5456890042996838| 42314.36246041038|\n",
      "|    corrin|fireemblem|  5473|   174|   7.19831606111324| 39396.38380247276|\n",
      "|        he|fireemblem| 31171| 68719|  1.225306478378617| 38194.02823753987|\n",
      "|     units|fireemblem| 11159|  7779|  3.403790417864317|37982.897272947914|\n",
      "| awakening|fireemblem|  8997|  3475| 4.2094645486514715| 37872.55254421729|\n",
      "|       her|fireemblem| 21449| 46569|  1.614390199060331| 34627.05537964504|\n",
      "|      with|fireemblem| 45744|111552| 0.7408469417680964|  33889.3025042398|\n",
      "|        be|fireemblem| 40706|102510| 0.8253766461610486|33597.781758631645|\n",
      "|        as|fireemblem| 37761| 97065| 0.8799555965556497| 33228.00328153789|\n",
      "|      like|fireemblem| 33468| 87447| 0.9843024250630825|32942.633562011244|\n",
      "|      they|fireemblem| 30029| 78170| 1.0964480212727588|32925.237630799675|\n",
      "|      have|fireemblem| 38496|100711| 0.8430817975906589|32455.276880050005|\n",
      "|       can|fireemblem| 34157| 91307| 0.9411083490722308| 32145.43787926019|\n",
      "|       she|fireemblem| 19240| 44050|  1.669998702454507|32130.775035224717|\n",
      "|      just|fireemblem| 32099| 86108| 0.9997328204670468|32090.423804171736|\n",
      "|        so|fireemblem| 33386| 89709| 0.9587645104834247|32009.311946999616|\n",
      "|    emblem|fireemblem|  7228|  2796|  4.426799341834794|31996.905642781894|\n",
      "|        if|fireemblem| 33464| 89964|  0.955926050250135|31989.109345570516|\n",
      "|       for|fireemblem| 55688|132437| 0.5692321446674873| 31699.39967224303|\n",
      "|     fates|fireemblem|  6203|  1639|   4.96065051421851|30770.915139697416|\n",
      "|   chapter|fireemblem| 10382| 12340|   2.94241970358357|30548.201362604625|\n",
      "|       not|fireemblem| 33018| 94355| 0.9082718932572378|29989.321371567476|\n",
      "|        my|fireemblem| 30034| 91905| 0.9345804404672579|28069.188948993622|\n",
      "|       are|fireemblem| 32780| 99757| 0.8525995029992792|27948.211708316372|\n",
      "|       was|fireemblem| 29648| 96642| 0.8843229793035798|26218.407690392534|\n",
      "|     chrom|fireemblem|  3813|   288|  6.696675346924322| 25534.42309782244|\n",
      "|    really|fireemblem| 18974| 62646| 1.3178309609348846|25004.524652778502|\n",
      "|        on|fireemblem| 37969|121752| 0.6533523537384096|24807.135519093674|\n",
      "|      unit|fireemblem|  7812| 10015|  3.151162941696874| 24616.88490053598|\n",
      "|       him|fireemblem| 14749| 44207| 1.6664409878735562| 24578.33813014708|\n",
      "|        or|fireemblem| 25674| 89873| 0.9569380666399799|24568.427922914845|\n",
      "|   because|fireemblem| 17083| 56929| 1.4135243130916264|24147.235840544254|\n",
      "|characters|fireemblem|  9817| 20151|  2.452043217004308|24071.708261331292|\n",
      "|       don|fireemblem| 19609| 70262| 1.2031014115802436|23591.615579676996|\n",
      "| character|fireemblem|  9890| 21552|   2.38483173805694|23585.985889383137|\n",
      "|     would|fireemblem| 20024| 72875| 1.1665873893511784|23359.745884367996|\n",
      "|       one|fireemblem| 22464| 89632| 0.9596232003094154|21556.975571750707|\n",
      "|       all|fireemblem| 22095| 88716| 0.9698952278312893|21429.835058932338|\n",
      "|      them|fireemblem| 15893| 63003|  1.312148539615128| 20853.97674010323|\n",
      "|      more|fireemblem| 20194| 83856| 1.0262337888607977| 20723.76513225495|\n",
      "|      this|fireemblem| 33589|126350| 0.6162830077285835| 20700.32994659539|\n",
      "|  conquest|fireemblem|  4566|  2592|   4.50253124949809|20558.557685208278|\n",
      "|      only|fireemblem| 15990| 65050| 1.2801751784241016|20470.001103001385|\n",
      "|      good|fireemblem| 17108| 71076| 1.1915829596239729|20385.601273246928|\n",
      "|        up|fireemblem| 18887| 80488| 1.0672262269297423|20156.701748022042|\n",
      "|         m|fireemblem| 21358| 91307| 0.9411083490722308|20100.192119484705|\n",
      "|       his|fireemblem| 15295| 63197| 1.3090741009721572|20022.288374369142|\n",
      "|       get|fireemblem| 20327| 88400| 0.9734634742578072|19787.592041238448|\n",
      "|     there|fireemblem| 18111| 79148| 1.0840146040461955| 19632.58849388065|\n",
      "|     games|fireemblem|  8742| 25367|  2.221858218818571|19423.484548911947|\n",
      "|      even|fireemblem| 13497| 55498| 1.4389817534825726|19421.936726754284|\n",
      "|        me|fireemblem| 18741| 84203|  1.022104329996465| 19155.25724846375|\n",
      "|      nohr|fireemblem|  2352|    67|  8.143594329860647|19153.733863832244|\n",
      "|     think|fireemblem| 15038| 65612| 1.2715729090060919|19121.913405633608|\n",
      "|      also|fireemblem| 15302| 67286| 1.2463797029958186|19072.102215242016|\n",
      "|        at|fireemblem| 21517| 96715| 0.8835679070962524|19011.730656990065|\n",
      "|        do|fireemblem| 17308| 78905| 1.0870894854667341|18815.344814458233|\n",
      "|       ike|fireemblem|  3823|  1814|  4.859261288337803| 18576.95590531542|\n",
      "|       has|fireemblem| 16634| 77296| 1.1076916110461859|18425.342258142256|\n",
      "|      than|fireemblem| 13053| 57948|   1.39578344267314|18219.161277212494|\n",
      "|      fire|fireemblem|  7424| 20698| 2.4252613661289635|18005.140382141424|\n",
      "|      what|fireemblem| 17490| 86173| 0.9989782480126068|17472.129557740493|\n",
      "|      much|fireemblem| 12676| 60178| 1.3580233018069967| 17214.30337370549|\n",
      "|    lucina|fireemblem|  2612|   333|  6.551961042060054| 17113.72224186086|\n",
      "|birthright|fireemblem|  3136|  1039|  5.416126042901336| 16984.97127053859|\n",
      "|      your|fireemblem| 16508| 85297|  1.009195748490712|16659.803416084673|\n",
      "|       use|fireemblem| 10587| 49039|  1.562710464426661| 16544.41568688506|\n",
      "|    pretty|fireemblem| 10450| 48135| 1.5813164181365662|16524.756569527115|\n",
      "|      some|fireemblem| 13932| 71724| 1.1825073941871884| 16474.69301581591|\n",
      "|    though|fireemblem| 10691| 50743| 1.5285533717230209|16341.764097090816|\n",
      "|      then|fireemblem| 11637| 58236|  1.390825864481934|16185.040584976266|\n",
      "|        re|fireemblem| 12500| 64145|  1.294185020795199|16177.312759939989|\n",
      "|    better|fireemblem| 10027| 46706| 1.6114527096789697|16158.036319951028|\n",
      "|      from|fireemblem| 17890| 96476| 0.8860421180865498|15851.293492568375|\n",
      "|     about|fireemblem| 15791| 86020| 1.0007553035631578|15802.926998565825|\n",
      "|        gt|fireemblem| 14103| 76981| 1.1117751277622843|15679.364626831495|\n",
      "|      well|fireemblem| 11606| 61592|   1.33479852833588|15491.671719866225|\n",
      "|       too|fireemblem| 11192| 58821| 1.3808308214667018|15454.258553855327|\n",
      "|      when|fireemblem| 13403| 74519| 1.1442792103212291|15336.774255935434|\n",
      "|  supports|fireemblem|  4635|  8561| 3.3080129483318625|15332.640015518184|\n",
      "|   hoshido|fireemblem|  1796|    49|  8.451079029608607|15178.137937177058|\n",
      "|        an|fireemblem| 15762| 89896| 0.9566821855454154|15079.224608566838|\n",
      "|     still|fireemblem| 10485| 55613| 1.4369117879328663|15066.020096476104|\n",
      "|       out|fireemblem| 13906| 79534| 1.0791495797042931|  15006.6540553679|\n",
      "|   growths|fireemblem|  2545|   677|  5.843954747096358|14872.864831360232|\n",
      "+----------+----------+------+------+-------------------+------------------+\n",
      "only showing top 100 rows\n",
      "\n"
     ]
    }
   ],
   "source": [
    "selectedSubTfIdf.sort(func.desc(\"tf_idf\")).show(100)"
   ]
  },
  {
   "cell_type": "markdown",
   "metadata": {},
   "source": [
    "As you can see, many work in here didn't make sense when standalone like (i, and, it, a, of, etc.)  \n",
    "So we need to filter it out, in this project we use nltk library with stopwords to filter all of that"
   ]
  },
  {
   "cell_type": "code",
   "execution_count": 33,
   "metadata": {},
   "outputs": [
    {
     "name": "stderr",
     "output_type": "stream",
     "text": [
      "[nltk_data] Downloading package stopwords to /home4/hpbui/nltk_data...\n",
      "[nltk_data]   Unzipping corpora/stopwords.zip.\n"
     ]
    }
   ],
   "source": [
    "import nltk\n",
    "nltk.download('stopwords')\n",
    "\n",
    "from nltk.corpus import stopwords\n",
    "stopWords = stopwords.words()"
   ]
  },
  {
   "cell_type": "code",
   "execution_count": 45,
   "metadata": {},
   "outputs": [
    {
     "name": "stdout",
     "output_type": "stream",
     "text": [
      "+----------+------------------+\n",
      "|      word|            tf_idf|\n",
      "+----------+------------------+\n",
      "|        fe| 83094.49139045768|\n",
      "|      game|43631.672126168676|\n",
      "|    corrin| 39396.38380247276|\n",
      "|     units|37982.897272947914|\n",
      "| awakening| 37872.55254421729|\n",
      "|      like|32942.633562011244|\n",
      "|    emblem|31996.905642781894|\n",
      "|     fates|30770.915139697416|\n",
      "|   chapter|30548.201362604625|\n",
      "|     chrom| 25534.42309782244|\n",
      "|    really|25004.524652778502|\n",
      "|      unit| 24616.88490053598|\n",
      "|characters|24071.708261331292|\n",
      "| character|23585.985889383137|\n",
      "|     would|23359.745884367996|\n",
      "|  conquest|20558.557685208278|\n",
      "|      good|20385.601273246928|\n",
      "|       get|19787.592041238448|\n",
      "|     games|19423.484548911947|\n",
      "|      even|19421.936726754284|\n",
      "|      nohr|19153.733863832244|\n",
      "|     think|19121.913405633608|\n",
      "|       ike| 18576.95590531542|\n",
      "|      fire|18005.140382141424|\n",
      "|      much| 17214.30337370549|\n",
      "|    lucina| 17113.72224186086|\n",
      "|birthright| 16984.97127053859|\n",
      "|       use| 16544.41568688506|\n",
      "|    pretty|16524.756569527115|\n",
      "|    though|16341.764097090816|\n",
      "|    better|16158.036319951028|\n",
      "|        gt|15679.364626831495|\n",
      "|      well|15491.671719866225|\n",
      "|  supports|15332.640015518184|\n",
      "|   hoshido|15178.137937177058|\n",
      "|     still|15066.020096476104|\n",
      "|   growths|14872.864831360232|\n",
      "|     ryoma|14860.248913011319|\n",
      "|   support|14694.276435735628|\n",
      "|  actually|14682.963108162416|\n",
      "|    people|14428.227530827417|\n",
      "|   camilla|14317.525875083915|\n",
      "|    knight|14295.692257412356|\n",
      "|     level|14196.647096939563|\n",
      "|     could|13847.209481659878|\n",
      "|      make|13710.528909331862|\n",
      "|   eliwood|13670.037838279808|\n",
      "|     class|13635.858368128944|\n",
      "|     azura|13558.374624934806|\n",
      "|     marth| 13441.46277772234|\n",
      "|       map|13322.126776221656|\n",
      "|     stats|13259.423723750371|\n",
      "|      best|13166.763225848888|\n",
      "|      know|12890.571375056463|\n",
      "|     since|12862.618675322019|\n",
      "|    xander|12830.111090929966|\n",
      "|      time| 12605.97656082197|\n",
      "|       way| 12194.99022942338|\n",
      "|fireemblem|12040.628857526905|\n",
      "|   enemies|11928.767055342429|\n",
      "|     skill| 11921.62481801184|\n",
      "|       bad| 11857.24235193489|\n",
      "|  probably|11814.889192455272|\n",
      "|       lyn|11780.694386237928|\n",
      "|    hector|11754.843065629015|\n",
      "|       got|11676.171019466226|\n",
      "|    takumi| 11542.55072487413|\n",
      "|      play|11477.645529799898|\n",
      "|     enemy|11467.789121310285|\n",
      "|  chapters|11437.408216424714|\n",
      "|    weapon|11314.776548695798|\n",
      "|     first|11255.694149191473|\n",
      "|   tellius|11247.190339985122|\n",
      "|       see|11230.311999152878|\n",
      "|     speed|11205.879697020086|\n",
      "|   lunatic|11205.544048251091|\n",
      "|       say|11172.338802232907|\n",
      "|       lot|11066.776470906147|\n",
      "|       dlc| 11015.30921940472|\n",
      "|     magic|10983.601330616264|\n",
      "|   weapons|10681.425673612915|\n",
      "|     robin|10524.874345406159|\n",
      "|     sword|10515.323774446355|\n",
      "|     never|10265.876192665228|\n",
      "|      yeah|10260.046336369649|\n",
      "|        go|10017.376477334416|\n",
      "|    eirika| 9992.704413223086|\n",
      "|      hard| 9858.711285682237|\n",
      "|     least|  9810.74052169493|\n",
      "|    skills| 9734.576391253288|\n",
      "|    played| 9709.015921616634|\n",
      "|    dragon| 9663.825468160623|\n",
      "|     thing|  9642.47198399118|\n",
      "|    tharja| 9617.045762360427|\n",
      "|     going| 9575.224889004163|\n",
      "|   ephraim| 9556.074875225506|\n",
      "|   thracia| 9551.602012645748|\n",
      "| something| 9541.853839367852|\n",
      "|      mozu| 9476.537823843311|\n",
      "|    series|  9414.29554308246|\n",
      "+----------+------------------+\n",
      "only showing top 100 rows\n",
      "\n"
     ]
    }
   ],
   "source": [
    "(selectedSubTfIdf\n",
    " .select(\"word\", \"tf_idf\")\n",
    " .filter(selectedSubTfIdf.word.isin(*stopWords) == False)\n",
    " .sort(func.desc(\"tf_idf\"))\n",
    " .show(100))"
   ]
  },
  {
   "cell_type": "code",
   "execution_count": 41,
   "metadata": {},
   "outputs": [],
   "source": [
    "(selectedSubTfIdf\n",
    " .select(\"word\", \"tf_idf\")\n",
    " .filter(selectedSubTfIdf.word.isin(*stopWords) == False)\n",
    " .sort(func.desc(\"tf_idf\"))\n",
    " .limit(2000)\n",
    " .coalesce(1).write.csv('hdfs://orion11:11001/wordCloud.csv'))"
   ]
  },
  {
   "cell_type": "code",
   "execution_count": null,
   "metadata": {},
   "outputs": [],
   "source": []
  }
 ],
 "metadata": {
  "kernelspec": {
   "display_name": "Python 3",
   "language": "python",
   "name": "python3"
  },
  "language_info": {
   "codemirror_mode": {
    "name": "ipython",
    "version": 3
   },
   "file_extension": ".py",
   "mimetype": "text/x-python",
   "name": "python",
   "nbconvert_exporter": "python",
   "pygments_lexer": "ipython3",
   "version": "3.7.3"
  }
 },
 "nbformat": 4,
 "nbformat_minor": 2
}
