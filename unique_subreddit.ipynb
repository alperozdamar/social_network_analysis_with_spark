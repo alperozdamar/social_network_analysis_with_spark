{
 "cells": [
  {
   "cell_type": "code",
   "execution_count": 2,
   "metadata": {},
   "outputs": [],
   "source": [
    "#text_file = sc.textFile(\"hdfs://orion11:11001/reddit/2006/RC_2006-01.bz2\")\n",
    "\n",
    "#counts = text_file.flatMap(lambda line: line.split(\" \")) \\\n",
    "#             .map(lambda word: (word, 1)) \\\n",
    "#             .reduceByKey(lambda a, b: a + b)\n",
    "#counts.saveAsTextFile(\"hdfs://orion11:11001/redditOutput\")"
   ]
  },
  {
   "cell_type": "code",
   "execution_count": 1,
   "metadata": {},
   "outputs": [
    {
     "name": "stdout",
     "output_type": "stream",
     "text": [
      "+-------------------------+\n",
      "|count(DISTINCT subreddit)|\n",
      "+-------------------------+\n",
      "|                       34|\n",
      "+-------------------------+\n",
      "\n"
     ]
    }
   ],
   "source": [
    "df = sqlContext.read.json(\"hdfs://orion11:11001/reddit/2006/*\")\n",
    "# Displays the content of the DataFrame to stdout\n",
    "df.createOrReplaceTempView(\"comments\")\n",
    "\n",
    "sqlDF = spark.sql(\"SELECT COUNT(DISTINCT subreddit) FROM comments\")\n",
    "sqlDF.show()"
   ]
  },
  {
   "cell_type": "code",
   "execution_count": null,
   "metadata": {},
   "outputs": [],
   "source": []
  }
 ],
 "metadata": {
  "kernelspec": {
   "display_name": "Python 3",
   "language": "python",
   "name": "python3"
  },
  "language_info": {
   "codemirror_mode": {
    "name": "ipython",
    "version": 3
   },
   "file_extension": ".py",
   "mimetype": "text/x-python",
   "name": "python",
   "nbconvert_exporter": "python",
   "pygments_lexer": "ipython3",
   "version": "3.7.3"
  }
 },
 "nbformat": 4,
 "nbformat_minor": 2
}
