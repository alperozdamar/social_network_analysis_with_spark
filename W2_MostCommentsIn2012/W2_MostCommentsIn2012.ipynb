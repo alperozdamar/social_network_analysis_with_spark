{
 "cells": [
  {
   "cell_type": "markdown",
   "metadata": {},
   "source": [
    "# WarmUp Question-2 \n",
    "\n",
    "Pick a subreddit. What user wrote the most comments in January of 2012? What was the user’s top three most-upvoted comments? (Filter out bots or other types of automated posts.) \n",
    "\n",
    "We choosed Turkey as a subreddit. \n",
    "Turkey is a transcontinental country located mainly on the Anatolian peninsula in Western Asia, with a small portion on the Balkan peninsula in Southeast Europe. One of the most ancient cities in the world, Istanbul at times overshadowed even ancient Rome, serving as capital first to Byzantine and then to the Ottoman Empire. At every turn in the city you fall over beauty. It teems with Roman, Byzantine and Ottoman palaces, mosques, churches, monasteries, monuments, walls, and ruins. The Topkapi Palace, Hagia Sophia, and the mosques of Süleymaniye and the Blue Mosque dominate the skyline. \n"
   ]
  },
  {
   "cell_type": "code",
   "execution_count": 36,
   "metadata": {
    "scrolled": false
   },
   "outputs": [
    {
     "name": "stdout",
     "output_type": "stream",
     "text": [
      "+--------------------+------------+\n",
      "|              author|CommentCount|\n",
      "+--------------------+------------+\n",
      "|         nextinction|           2|\n",
      "|            goober12|           2|\n",
      "|  PhileasFuckingFogg|           3|\n",
      "|             osemanu|           2|\n",
      "|              syfpsy|           1|\n",
      "|             vwhit12|           1|\n",
      "|       hesapmakinesi|           1|\n",
      "|hipstersarepeopletoo|           1|\n",
      "|           zamazingo|           1|\n",
      "|      Clit_Commander|           2|\n",
      "|         JaneNilufer|           2|\n",
      "+--------------------+------------+\n",
      "\n"
     ]
    }
   ],
   "source": [
    "df = sqlContext.read.json(\"hdfs://orion11:31001/reddit/2012/*\")\n",
    "df.createOrReplaceTempView(\"Comments\")\n",
    "#1136073600 Jan 1st 2006\n",
    "#1138751999 Jan 31st 2006\n",
    "#1327968000 Jan 1st 2012\n",
    "#1328054399 Jan 31st 2012\n",
    "sqlDF=spark.sql(\"SELECT author,count(author) AS CommentCount from Comments where author!='[deleted]' and subreddit='Turkey' and (created_utc>=1327968000 and created_utc<=1328054399) group by author\")\n",
    "\n",
    "#df.select(\"author\").show()\n",
    "\n",
    "#sqlDF.show()\n",
    "sqlDF.show(df.count())\n",
    "#sqlDF.write.format('json').save('file:////home4/saozdamar/bigdata/output_alper') this writes results into File System."
   ]
  },
  {
   "cell_type": "markdown",
   "metadata": {},
   "source": [
    "# Results\n",
    "As you above, the user \"PhileasFXXXingFogg\" has the most comments in January of 2012 in Turkey subreddit.(Sorry we censored some portion of the user's name with XXXX because it was inappropriate) We filtered out bots or other types of automated posts as you see in the SQL query. There were more than 80 comments for author '[deleted]'. We think that reddit developers updates author field of deleted comments as '[deleted]'. So we ignored these data. \n"
   ]
  },
  {
   "cell_type": "code",
   "execution_count": 3,
   "metadata": {},
   "outputs": [
    {
     "name": "stdout",
     "output_type": "stream",
     "text": [
      "+------------------+--------------------+-----------+---+\n",
      "|            author|                body|created_utc|ups|\n",
      "+------------------+--------------------+-----------+---+\n",
      "|PhileasFuckingFogg|There's a mistake...| 1327999427|  0|\n",
      "|PhileasFuckingFogg|I get it all the ...| 1328016371|  1|\n",
      "|PhileasFuckingFogg|Er, yes, thank yo...| 1328017430|  1|\n",
      "+------------------+--------------------+-----------+---+\n",
      "\n"
     ]
    }
   ],
   "source": [
    "#What was the PhileasFuckingFogg ’s top three most-upvoted comments? \n",
    "# It takes more than 20 minutes...\n",
    "df = sqlContext.read.json(\"hdfs://orion11:31001/reddit/2012/*\")\n",
    "df.createOrReplaceTempView(\"Comments\")\n",
    "sqlDF=spark.sql(\"SELECT author,body,created_utc,ups from Comments where author='PhileasFuckingFogg' and subreddit='Turkey' and (created_utc>=1327968000 and created_utc<=1328054399) ORDER BY ups\")\n",
    "#sqlDF.show(df.count()) //java.lang.OutOfMemoryError: Java heap space \n",
    "sqlDF.show()"
   ]
  },
  {
   "cell_type": "markdown",
   "metadata": {},
   "source": [
    "# Top 3 most-upvoted comments of PhileasFXXXXingFogg\n",
    "\n",
    "We listed 3 most-upvoted comments of PhileasFXXXXingFogg as you seen in the above. We queried the period between Jan,1st 2012(1327968000) and Jan 31st 2012(1328054399) and ordered it by ups. ups is the field for counting upvotes for specific comment. \n",
    "\n"
   ]
  }
 ],
 "metadata": {
  "celltoolbar": "Raw Cell Format",
  "kernelspec": {
   "display_name": "Python 3",
   "language": "python",
   "name": "python3"
  },
  "language_info": {
   "codemirror_mode": {
    "name": "ipython",
    "version": 3
   },
   "file_extension": ".py",
   "mimetype": "text/x-python",
   "name": "python",
   "nbconvert_exporter": "python",
   "pygments_lexer": "ipython3",
   "version": "3.7.3"
  }
 },
 "nbformat": 4,
 "nbformat_minor": 2
}
